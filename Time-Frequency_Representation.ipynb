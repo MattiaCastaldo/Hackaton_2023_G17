{
 "cells": [
  {
   "cell_type": "markdown",
   "source": [
    "# Using the Discrete Wavelet Transform to classify signals"
   ],
   "metadata": {
    "collapsed": false
   }
  },
  {
   "cell_type": "code",
   "execution_count": 1,
   "metadata": {
    "collapsed": true
   },
   "outputs": [],
   "source": [
    "import numpy as np\n",
    "import pandas as pd\n",
    "import pywt\n",
    "from collections import Counter\n",
    "import scipy\n",
    "import tqdm\n",
    "from typing import List, Tuple\n",
    "import matplotlib.pyplot as plt\n",
    "from numpy import ndarray"
   ]
  },
  {
   "cell_type": "markdown",
   "source": [
    "### Data preprocessing"
   ],
   "metadata": {
    "collapsed": false
   }
  },
  {
   "cell_type": "code",
   "execution_count": 3,
   "outputs": [
    {
     "data": {
      "text/plain": "(663, 24, 2048)"
     },
     "execution_count": 3,
     "metadata": {},
     "output_type": "execute_result"
    }
   ],
   "source": [
    "df = pd.read_parquet('train.parquet')\n",
    "train_data = df.iloc[:,5:].values.reshape(663,24,2048).astype(np.float32)"
   ],
   "metadata": {
    "collapsed": false
   }
  },
  {
   "cell_type": "code",
   "execution_count": 112,
   "outputs": [
    {
     "name": "stderr",
     "output_type": "stream",
     "text": [
      "100%|██████████| 663/663 [00:31<00:00, 20.73it/s]\n"
     ]
    }
   ],
   "source": [
    "def dwt(train_data: np.ndarray, level: int = 2, wavelet: str = 'rbio1.3') -> np.ndarray:\n",
    "    \"\"\"\n",
    "    Implementing discrete Wavelet transformation to deconstruct the signal of time series\n",
    "    by retrieving approximation coefficients\n",
    "    :param train_data: numpy ndarray\n",
    "    :param level: Decomposition level\n",
    "    :param wavelet: Wavelet function used to estimate coefficients\n",
    "    :return: The new np.ndarray for the dataset transformed\n",
    "    \"\"\"\n",
    "    data = None\n",
    "\n",
    "    for sample in tqdm.tqdm(range(train_data.shape[0])):\n",
    "        list_features = None\n",
    "\n",
    "        for signal in range(train_data.shape[1]):\n",
    "            # computing estimation of coefficient of the Wavelet transformation\n",
    "            list_coeff = pywt.wavedec(train_data[sample,signal,:], wavelet=wavelet,mode='zero', level=level)\n",
    "            coeff_features = None\n",
    "\n",
    "            for coeff in list_coeff:\n",
    "                if coeff_features is None:\n",
    "                    # compute statistics w.r.t estimated coefficient given a specific level\n",
    "                    coeff_features = get_features(coeff)\n",
    "                else:\n",
    "                    coeff_features = np.concatenate((coeff_features,get_features(coeff)))\n",
    "            if list_features is None:\n",
    "                list_features = coeff_features\n",
    "            else:\n",
    "                list_features = np.concatenate((list_features, coeff_features))\n",
    "        if data is None:\n",
    "            data = list_features[np.newaxis,]\n",
    "        else:\n",
    "            data = np.concatenate((data,list_features[np.newaxis,]), axis = 0)\n",
    "\n",
    "    return np.array(data)\n",
    "\n",
    "\n",
    "\n",
    "\n",
    "def get_features(list_values) -> np.ndarray:\n",
    "    \"\"\"\n",
    "    :param list_values: list of detail coefficients and approximation coefficients for each time series\n",
    "    :return summary stats\n",
    "    \"\"\"\n",
    "    return np.array([\n",
    "        np.mean(list_values),\n",
    "        np.quantile(list_values,0.95),\n",
    "        np.quantile(list_values,0.25),\n",
    "        np.quantile(list_values,0.5),\n",
    "        np.quantile(list_values,0.75),\n",
    "        np.quantile(list_values,0.05),\n",
    "        calculate_entropy(list_values)\n",
    "        ])\n",
    "\n",
    "def calculate_entropy(list_values: list) -> float:\n",
    "    \"\"\"\n",
    "    Returning entropy value for a given list, it can be taken as a measure of complexity of the signal.\n",
    "    :param list_values: list of detail coefficients and approximation coefficients for each time series\n",
    "    :return The entropy for that given list as input\n",
    "    \"\"\"\n",
    "    counter_values = Counter(list_values).most_common()\n",
    "    probabilities = [elem[1]/len(list_values) for elem in counter_values]\n",
    "    entropy=scipy.stats.entropy(probabilities)\n",
    "    return entropy\n",
    "\n",
    "\n",
    "x_train  = dwt(train_data)"
   ],
   "metadata": {
    "collapsed": false
   }
  },
  {
   "cell_type": "code",
   "execution_count": 104,
   "outputs": [],
   "source": [
    "from sklearn.model_selection import StratifiedKFold, GridSearchCV\n",
    "from sklearn.svm import SVC\n",
    "from sklearn.pipeline import make_pipeline\n",
    "from sklearn.preprocessing import Normalizer"
   ],
   "metadata": {
    "collapsed": false
   }
  },
  {
   "cell_type": "code",
   "execution_count": 118,
   "outputs": [
    {
     "data": {
      "text/plain": "(0.6192596521145838,\n {'svc__C': 0.9,\n  'svc__coef0': 1.0,\n  'svc__decision_function_shape': 'ovo',\n  'svc__degree': 4,\n  'svc__kernel': 'poly',\n  'svc__tol': 1.0666666666666667})"
     },
     "execution_count": 118,
     "metadata": {},
     "output_type": "execute_result"
    }
   ],
   "source": [
    "clf = make_pipeline(Normalizer(),SVC(class_weight='balanced',random_state=1234))\n",
    "params = {\n",
    "    'svc__C':np.linspace(0.1,1,10),\n",
    "    'svc__decision_function_shape':['ovo'],\n",
    "    'svc__kernel' :['linear','poly','rbf'],\n",
    "    'svc__degree': [3,4,5],\n",
    "    'svc__coef0': np.linspace(1,7,4),\n",
    "    'svc__tol': np.linspace(0.1,3,4)\n",
    "}\n",
    "skf = StratifiedKFold(n_splits=3, shuffle=True)\n",
    "cv = GridSearchCV(clf, param_grid=params,scoring='balanced_accuracy', n_jobs=-1, cv=skf.split(x_train, df.y),\n",
    "                  return_train_score=True,refit=True)\n",
    "cv.fit(x_train,df.y)\n",
    "cv.best_score_,cv.best_params_"
   ],
   "metadata": {
    "collapsed": false
   }
  },
  {
   "cell_type": "code",
   "execution_count": 119,
   "outputs": [
    {
     "data": {
      "text/plain": "                  mean_fit_time  std_fit_time  mean_score_time  \\\nmean_train_score                                                 \n0.933454               0.075204      0.024895         0.023309   \n0.899384               0.061583      0.001628         0.022339   \n0.887018               0.084699      0.014680         0.026538   \n0.886481               0.089132      0.019263         0.027604   \n0.932164               0.055286      0.014471         0.019805   \n...                         ...           ...              ...   \n0.443837               0.118151      0.044158         0.056645   \n0.443837               0.159481      0.065359         0.050987   \n0.443837               0.105702      0.008873         0.047708   \n0.443837               0.109800      0.018217         0.027800   \n0.443837               0.095617      0.003002         0.033595   \n\n                  std_score_time param_svc__C param_svc__coef0  \\\nmean_train_score                                                 \n0.933454                0.004563          0.9              1.0   \n0.899384                0.001515          0.4              1.0   \n0.887018                0.002695          0.9              1.0   \n0.886481                0.004263          0.3              1.0   \n0.932164                0.004295          1.0              3.0   \n...                          ...          ...              ...   \n0.443837                0.024207          0.2              1.0   \n0.443837                0.013090          0.2              5.0   \n0.443837                0.017003          0.2              7.0   \n0.443837                0.002473          0.2              5.0   \n0.443837                0.006910          0.2              3.0   \n\n                 param_svc__decision_function_shape param_svc__degree  \\\nmean_train_score                                                        \n0.933454                                        ovo                 4   \n0.899384                                        ovo                 4   \n0.887018                                        ovo                 3   \n0.886481                                        ovo                 4   \n0.932164                                        ovo                 3   \n...                                             ...               ...   \n0.443837                                        ovo                 3   \n0.443837                                        ovo                 3   \n0.443837                                        ovo                 4   \n0.443837                                        ovo                 4   \n0.443837                                        ovo                 5   \n\n                 param_svc__kernel param_svc__tol  ... split0_test_score  \\\nmean_train_score                                   ...                     \n0.933454                      poly       1.066667  ...          0.831537   \n0.899384                      poly            0.1  ...          0.813824   \n0.887018                      poly            0.1  ...          0.815434   \n0.886481                      poly            0.1  ...          0.815434   \n0.932164                      poly       1.066667  ...          0.809117   \n...                            ...            ...  ...               ...   \n0.443837                    linear            0.1  ...          0.333333   \n0.443837                    linear            0.1  ...          0.333333   \n0.443837                    linear            0.1  ...          0.333333   \n0.443837                    linear            0.1  ...          0.333333   \n0.443837                    linear            0.1  ...          0.333333   \n\n                  split1_test_score  split2_test_score  mean_test_score  \\\nmean_train_score                                                          \n0.933454                   0.337793           0.688449         0.619260   \n0.899384                   0.334448           0.683595         0.610622   \n0.887018                   0.313514           0.697909         0.608952   \n0.886481                   0.316735           0.693055         0.608408   \n0.932164                   0.389199           0.626089         0.608135   \n...                             ...                ...              ...   \n0.443837                   0.070606           0.322006         0.241982   \n0.443837                   0.070606           0.322006         0.241982   \n0.443837                   0.070606           0.322006         0.241982   \n0.443837                   0.070606           0.322006         0.241982   \n0.443837                   0.070606           0.322006         0.241982   \n\n                  std_test_score  rank_test_score  split0_train_score  \\\nmean_train_score                                                        \n0.933454                0.207423                1            0.931583   \n0.899384                0.202392                2            0.896163   \n0.887018                0.214345                3            0.892935   \n0.886481                0.212209                4            0.892935   \n0.932164                0.171900                5            0.921990   \n...                          ...              ...                 ...   \n0.443837                0.121269             1429            0.431624   \n0.443837                0.121269             1429            0.431624   \n0.443837                0.121269             1429            0.431624   \n0.443837                0.121269             1429            0.431624   \n0.443837                0.121269             1429            0.431624   \n\n                  split1_train_score  split2_train_score  std_train_score  \nmean_train_score                                                           \n0.933454                    0.944403            0.924378         0.008282  \n0.899384                    0.895263            0.906726         0.005205  \n0.887018                    0.873471            0.894649         0.009605  \n0.886481                    0.873471            0.893039         0.009200  \n0.932164                    0.941268            0.933234         0.007906  \n...                              ...                 ...              ...  \n0.443837                    0.411964            0.487923         0.032190  \n0.443837                    0.411964            0.487923         0.032190  \n0.443837                    0.411964            0.487923         0.032190  \n0.443837                    0.411964            0.487923         0.032190  \n0.443837                    0.411964            0.487923         0.032190  \n\n[1440 rows x 21 columns]",
      "text/html": "<div>\n<style scoped>\n    .dataframe tbody tr th:only-of-type {\n        vertical-align: middle;\n    }\n\n    .dataframe tbody tr th {\n        vertical-align: top;\n    }\n\n    .dataframe thead th {\n        text-align: right;\n    }\n</style>\n<table border=\"1\" class=\"dataframe\">\n  <thead>\n    <tr style=\"text-align: right;\">\n      <th></th>\n      <th>mean_fit_time</th>\n      <th>std_fit_time</th>\n      <th>mean_score_time</th>\n      <th>std_score_time</th>\n      <th>param_svc__C</th>\n      <th>param_svc__coef0</th>\n      <th>param_svc__decision_function_shape</th>\n      <th>param_svc__degree</th>\n      <th>param_svc__kernel</th>\n      <th>param_svc__tol</th>\n      <th>...</th>\n      <th>split0_test_score</th>\n      <th>split1_test_score</th>\n      <th>split2_test_score</th>\n      <th>mean_test_score</th>\n      <th>std_test_score</th>\n      <th>rank_test_score</th>\n      <th>split0_train_score</th>\n      <th>split1_train_score</th>\n      <th>split2_train_score</th>\n      <th>std_train_score</th>\n    </tr>\n    <tr>\n      <th>mean_train_score</th>\n      <th></th>\n      <th></th>\n      <th></th>\n      <th></th>\n      <th></th>\n      <th></th>\n      <th></th>\n      <th></th>\n      <th></th>\n      <th></th>\n      <th></th>\n      <th></th>\n      <th></th>\n      <th></th>\n      <th></th>\n      <th></th>\n      <th></th>\n      <th></th>\n      <th></th>\n      <th></th>\n      <th></th>\n    </tr>\n  </thead>\n  <tbody>\n    <tr>\n      <th>0.933454</th>\n      <td>0.075204</td>\n      <td>0.024895</td>\n      <td>0.023309</td>\n      <td>0.004563</td>\n      <td>0.9</td>\n      <td>1.0</td>\n      <td>ovo</td>\n      <td>4</td>\n      <td>poly</td>\n      <td>1.066667</td>\n      <td>...</td>\n      <td>0.831537</td>\n      <td>0.337793</td>\n      <td>0.688449</td>\n      <td>0.619260</td>\n      <td>0.207423</td>\n      <td>1</td>\n      <td>0.931583</td>\n      <td>0.944403</td>\n      <td>0.924378</td>\n      <td>0.008282</td>\n    </tr>\n    <tr>\n      <th>0.899384</th>\n      <td>0.061583</td>\n      <td>0.001628</td>\n      <td>0.022339</td>\n      <td>0.001515</td>\n      <td>0.4</td>\n      <td>1.0</td>\n      <td>ovo</td>\n      <td>4</td>\n      <td>poly</td>\n      <td>0.1</td>\n      <td>...</td>\n      <td>0.813824</td>\n      <td>0.334448</td>\n      <td>0.683595</td>\n      <td>0.610622</td>\n      <td>0.202392</td>\n      <td>2</td>\n      <td>0.896163</td>\n      <td>0.895263</td>\n      <td>0.906726</td>\n      <td>0.005205</td>\n    </tr>\n    <tr>\n      <th>0.887018</th>\n      <td>0.084699</td>\n      <td>0.014680</td>\n      <td>0.026538</td>\n      <td>0.002695</td>\n      <td>0.9</td>\n      <td>1.0</td>\n      <td>ovo</td>\n      <td>3</td>\n      <td>poly</td>\n      <td>0.1</td>\n      <td>...</td>\n      <td>0.815434</td>\n      <td>0.313514</td>\n      <td>0.697909</td>\n      <td>0.608952</td>\n      <td>0.214345</td>\n      <td>3</td>\n      <td>0.892935</td>\n      <td>0.873471</td>\n      <td>0.894649</td>\n      <td>0.009605</td>\n    </tr>\n    <tr>\n      <th>0.886481</th>\n      <td>0.089132</td>\n      <td>0.019263</td>\n      <td>0.027604</td>\n      <td>0.004263</td>\n      <td>0.3</td>\n      <td>1.0</td>\n      <td>ovo</td>\n      <td>4</td>\n      <td>poly</td>\n      <td>0.1</td>\n      <td>...</td>\n      <td>0.815434</td>\n      <td>0.316735</td>\n      <td>0.693055</td>\n      <td>0.608408</td>\n      <td>0.212209</td>\n      <td>4</td>\n      <td>0.892935</td>\n      <td>0.873471</td>\n      <td>0.893039</td>\n      <td>0.009200</td>\n    </tr>\n    <tr>\n      <th>0.932164</th>\n      <td>0.055286</td>\n      <td>0.014471</td>\n      <td>0.019805</td>\n      <td>0.004295</td>\n      <td>1.0</td>\n      <td>3.0</td>\n      <td>ovo</td>\n      <td>3</td>\n      <td>poly</td>\n      <td>1.066667</td>\n      <td>...</td>\n      <td>0.809117</td>\n      <td>0.389199</td>\n      <td>0.626089</td>\n      <td>0.608135</td>\n      <td>0.171900</td>\n      <td>5</td>\n      <td>0.921990</td>\n      <td>0.941268</td>\n      <td>0.933234</td>\n      <td>0.007906</td>\n    </tr>\n    <tr>\n      <th>...</th>\n      <td>...</td>\n      <td>...</td>\n      <td>...</td>\n      <td>...</td>\n      <td>...</td>\n      <td>...</td>\n      <td>...</td>\n      <td>...</td>\n      <td>...</td>\n      <td>...</td>\n      <td>...</td>\n      <td>...</td>\n      <td>...</td>\n      <td>...</td>\n      <td>...</td>\n      <td>...</td>\n      <td>...</td>\n      <td>...</td>\n      <td>...</td>\n      <td>...</td>\n      <td>...</td>\n    </tr>\n    <tr>\n      <th>0.443837</th>\n      <td>0.118151</td>\n      <td>0.044158</td>\n      <td>0.056645</td>\n      <td>0.024207</td>\n      <td>0.2</td>\n      <td>1.0</td>\n      <td>ovo</td>\n      <td>3</td>\n      <td>linear</td>\n      <td>0.1</td>\n      <td>...</td>\n      <td>0.333333</td>\n      <td>0.070606</td>\n      <td>0.322006</td>\n      <td>0.241982</td>\n      <td>0.121269</td>\n      <td>1429</td>\n      <td>0.431624</td>\n      <td>0.411964</td>\n      <td>0.487923</td>\n      <td>0.032190</td>\n    </tr>\n    <tr>\n      <th>0.443837</th>\n      <td>0.159481</td>\n      <td>0.065359</td>\n      <td>0.050987</td>\n      <td>0.013090</td>\n      <td>0.2</td>\n      <td>5.0</td>\n      <td>ovo</td>\n      <td>3</td>\n      <td>linear</td>\n      <td>0.1</td>\n      <td>...</td>\n      <td>0.333333</td>\n      <td>0.070606</td>\n      <td>0.322006</td>\n      <td>0.241982</td>\n      <td>0.121269</td>\n      <td>1429</td>\n      <td>0.431624</td>\n      <td>0.411964</td>\n      <td>0.487923</td>\n      <td>0.032190</td>\n    </tr>\n    <tr>\n      <th>0.443837</th>\n      <td>0.105702</td>\n      <td>0.008873</td>\n      <td>0.047708</td>\n      <td>0.017003</td>\n      <td>0.2</td>\n      <td>7.0</td>\n      <td>ovo</td>\n      <td>4</td>\n      <td>linear</td>\n      <td>0.1</td>\n      <td>...</td>\n      <td>0.333333</td>\n      <td>0.070606</td>\n      <td>0.322006</td>\n      <td>0.241982</td>\n      <td>0.121269</td>\n      <td>1429</td>\n      <td>0.431624</td>\n      <td>0.411964</td>\n      <td>0.487923</td>\n      <td>0.032190</td>\n    </tr>\n    <tr>\n      <th>0.443837</th>\n      <td>0.109800</td>\n      <td>0.018217</td>\n      <td>0.027800</td>\n      <td>0.002473</td>\n      <td>0.2</td>\n      <td>5.0</td>\n      <td>ovo</td>\n      <td>4</td>\n      <td>linear</td>\n      <td>0.1</td>\n      <td>...</td>\n      <td>0.333333</td>\n      <td>0.070606</td>\n      <td>0.322006</td>\n      <td>0.241982</td>\n      <td>0.121269</td>\n      <td>1429</td>\n      <td>0.431624</td>\n      <td>0.411964</td>\n      <td>0.487923</td>\n      <td>0.032190</td>\n    </tr>\n    <tr>\n      <th>0.443837</th>\n      <td>0.095617</td>\n      <td>0.003002</td>\n      <td>0.033595</td>\n      <td>0.006910</td>\n      <td>0.2</td>\n      <td>3.0</td>\n      <td>ovo</td>\n      <td>5</td>\n      <td>linear</td>\n      <td>0.1</td>\n      <td>...</td>\n      <td>0.333333</td>\n      <td>0.070606</td>\n      <td>0.322006</td>\n      <td>0.241982</td>\n      <td>0.121269</td>\n      <td>1429</td>\n      <td>0.431624</td>\n      <td>0.411964</td>\n      <td>0.487923</td>\n      <td>0.032190</td>\n    </tr>\n  </tbody>\n</table>\n<p>1440 rows × 21 columns</p>\n</div>"
     },
     "execution_count": 119,
     "metadata": {},
     "output_type": "execute_result"
    }
   ],
   "source": [
    "pd.DataFrame(cv.cv_results_).sort_values(by='mean_test_score',ascending=False).set_index('mean_train_score')"
   ],
   "metadata": {
    "collapsed": false
   }
  },
  {
   "cell_type": "markdown",
   "source": [
    "### Submission"
   ],
   "metadata": {
    "collapsed": false
   }
  },
  {
   "cell_type": "code",
   "execution_count": 102,
   "outputs": [
    {
     "name": "stderr",
     "output_type": "stream",
     "text": [
      "100%|██████████| 355/355 [00:16<00:00, 22.17it/s]\n"
     ]
    }
   ],
   "source": [
    "df_sub = pd.read_csv('test.csv')\n",
    "X_sub = dwt(df_sub.iloc[:,4:].values.reshape(355,24,2048))"
   ],
   "metadata": {
    "collapsed": false
   }
  },
  {
   "cell_type": "code",
   "execution_count": 116,
   "outputs": [],
   "source": [
    "y_sub = cv.predict(X_sub)\n",
    "submission_df = pd.DataFrame(y_sub,columns=['y'])\n",
    "submission_df['id'] = df_sub.id\n",
    "submission_df.set_index('id', inplace=True)\n",
    "# submission_df.y = submission_df.y\n",
    "submission_df.to_csv('submission1_3_04.csv')"
   ],
   "metadata": {
    "collapsed": false
   }
  },
  {
   "cell_type": "markdown",
   "source": [
    "Histogram of the distribution of the predicted labels for the test dataset"
   ],
   "metadata": {
    "collapsed": false
   }
  },
  {
   "cell_type": "code",
   "execution_count": 120,
   "outputs": [
    {
     "data": {
      "text/plain": "<Figure size 640x480 with 1 Axes>",
      "image/png": "[encoded data removed]"
     },
     "metadata": {},
     "output_type": "display_data"
    }
   ],
   "source": [
    "plt.hist(y_sub)\n",
    "plt.show()"
   ],
   "metadata": {
    "collapsed": false
   }
  },
  {
   "cell_type": "code",
   "execution_count": null,
   "outputs": [],
   "source": [],
   "metadata": {
    "collapsed": false
   }
  }
 ],
 "metadata": {
  "kernelspec": {
   "display_name": "Python 3",
   "language": "python",
   "name": "python3"
  },
  "language_info": {
   "codemirror_mode": {
    "name": "ipython",
    "version": 2
   },
   "file_extension": ".py",
   "mimetype": "text/x-python",
   "name": "python",
   "nbconvert_exporter": "python",
   "pygments_lexer": "ipython2",
   "version": "2.7.6"
  }
 },
 "nbformat": 4,
 "nbformat_minor": 0
}
