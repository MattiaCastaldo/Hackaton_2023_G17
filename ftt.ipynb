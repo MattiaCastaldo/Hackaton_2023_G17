{
 "cells": [
  {
   "cell_type": "code",
   "execution_count": 8,
   "metadata": {},
   "outputs": [
    {
     "name": "stdout",
     "output_type": "stream",
     "text": [
      "The autoreload extension is already loaded. To reload it, use:\n",
      "  %reload_ext autoreload\n"
     ]
    }
   ],
   "source": [
    "from sklearn.svm import SVC\n",
    "import numpy as np\n",
    "import pandas as pd\n",
    "%load_ext autoreload\n",
    "%autoreload 2"
   ]
  },
  {
   "cell_type": "code",
   "execution_count": 3,
   "metadata": {},
   "outputs": [],
   "source": [
    "df_train = pd.read_csv('data\\\\train.csv')\n",
    "# df_train.to_parquet('train.parquet')\n",
    "# df_train = pd.read_parquet('train.parquet')\n",
    "df_ts = df_train.iloc[:,5:] # timeseries features only\n",
    "df_train['y_s'] = df_train.y > 1 # simplified y: label 0 for 1 and 1 for 2,3 "
   ]
  },
  {
   "attachments": {},
   "cell_type": "markdown",
   "metadata": {},
   "source": [
    "# fit model"
   ]
  },
  {
   "cell_type": "code",
   "execution_count": 9,
   "metadata": {},
   "outputs": [],
   "source": [
    "from sklearn.model_selection import GridSearchCV, StratifiedKFold\n",
    "from sklearn.pipeline import make_pipeline\n",
    "from util import FourierTransformer\n",
    "\n",
    "\n",
    "params = {'C' : np.linspace(0.1,3,50),\n",
    "          'kernel':['poly','rbf','linear']}\n"
   ]
  },
  {
   "cell_type": "code",
   "execution_count": 11,
   "metadata": {},
   "outputs": [
    {
     "data": {
      "text/plain": [
       "[('fouriertransformer', FourierTransformer()),\n",
       " ('svc', SVC(class_weight='balanced'))]"
      ]
     },
     "execution_count": 11,
     "metadata": {},
     "output_type": "execute_result"
    }
   ],
   "source": [
    "pipe = make_pipeline(\n",
    "    FourierTransformer(),\n",
    "    SVC(class_weight='balanced')\n",
    ")\n",
    "\n",
    "pipe.steps"
   ]
  },
  {
   "cell_type": "code",
   "execution_count": 16,
   "metadata": {},
   "outputs": [],
   "source": [
    "params = {\n",
    "    'svc__C' : np.linspace(0.5,2,4),\n",
    "    # 'svc__kernel':['poly','rbf','linear'],\n",
    "    'fouriertransformer__k': [i for i in range(3,16,3)],\n",
    "    'fouriertransformer__aggregate': ['union', 'intersection', 'median', 'exclusive']\n",
    "    }"
   ]
  },
  {
   "cell_type": "code",
   "execution_count": 18,
   "metadata": {},
   "outputs": [],
   "source": [
    "skf = StratifiedKFold(n_splits=4)\n",
    "cv = GridSearchCV(\n",
    "    pipe, \n",
    "    param_grid=params, \n",
    "    scoring='balanced_accuracy', \n",
    "    n_jobs=-1, \n",
    "    cv=skf.split(df_ts, df_train.y)\n",
    ")\n",
    "cv.fit(df_ts.values,df_train.y)\n",
    "\n",
    "cv.best_params_, cv.best_score_"
   ]
  }
 ],
 "metadata": {
  "kernelspec": {
   "display_name": "Python 3",
   "language": "python",
   "name": "python3"
  },
  "language_info": {
   "codemirror_mode": {
    "name": "ipython",
    "version": 3
   },
   "file_extension": ".py",
   "mimetype": "text/x-python",
   "name": "python",
   "nbconvert_exporter": "python",
   "pygments_lexer": "ipython3",
   "version": "3.11.4"
  },
  "orig_nbformat": 4
 },
 "nbformat": 4,
 "nbformat_minor": 2
}
