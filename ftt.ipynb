{
 "cells": [
  {
   "attachments": {},
   "cell_type": "markdown",
   "metadata": {},
   "source": [
    "# Frequencies\n",
    "Understand which frequencies are most important in the time series and select them"
   ]
  },
  {
   "cell_type": "code",
   "execution_count": 1,
   "metadata": {},
   "outputs": [],
   "source": [
    "from sklearn.svm import SVC\n",
    "from util import FourierTransformer\n",
    "\n",
    "import numpy as np\n",
    "import pandas as pd\n",
    "%load_ext autoreload\n",
    "%autoreload 2"
   ]
  },
  {
   "cell_type": "code",
   "execution_count": 2,
   "metadata": {},
   "outputs": [],
   "source": [
    "df_train = pd.read_csv('data\\\\train.csv')\n",
    "# df_train.to_parquet('train.parquet')\n",
    "# df_train = pd.read_parquet('train.parquet')\n",
    "df_ts = df_train.iloc[:,5:] # timeseries features only\n",
    "df_train['y_s'] = df_train.y > 1 # simplified y: label 0 for 1 and 1 for 2,3 "
   ]
  },
  {
   "attachments": {},
   "cell_type": "markdown",
   "metadata": {},
   "source": [
    "# Explore frequencies"
   ]
  },
  {
   "cell_type": "code",
   "execution_count": 19,
   "metadata": {},
   "outputs": [
    {
     "name": "stdout",
     "output_type": "stream",
     "text": [
      "[(663, 10), (663, 10), (663, 10), (663, 10), (663, 10), (663, 10), (663, 10), (663, 10), (663, 10), (663, 10), (663, 10), (663, 10), (663, 10), (663, 10), (663, 10), (663, 10), (663, 10), (663, 10), (663, 10), (663, 10), (663, 10), (663, 10), (663, 10), (663, 10)]\n",
      "CPU times: total: 1.58 s\n",
      "Wall time: 2.11 s\n"
     ]
    },
    {
     "data": {
      "text/html": [
       "<div>\n",
       "<style scoped>\n",
       "    .dataframe tbody tr th:only-of-type {\n",
       "        vertical-align: middle;\n",
       "    }\n",
       "\n",
       "    .dataframe tbody tr th {\n",
       "        vertical-align: top;\n",
       "    }\n",
       "\n",
       "    .dataframe thead th {\n",
       "        text-align: right;\n",
       "    }\n",
       "</style>\n",
       "<table border=\"1\" class=\"dataframe\">\n",
       "  <thead>\n",
       "    <tr style=\"text-align: right;\">\n",
       "      <th></th>\n",
       "      <th>0</th>\n",
       "      <th>1</th>\n",
       "      <th>2</th>\n",
       "      <th>3</th>\n",
       "      <th>4</th>\n",
       "      <th>5</th>\n",
       "      <th>6</th>\n",
       "      <th>7</th>\n",
       "      <th>8</th>\n",
       "      <th>9</th>\n",
       "      <th>...</th>\n",
       "      <th>230</th>\n",
       "      <th>231</th>\n",
       "      <th>232</th>\n",
       "      <th>233</th>\n",
       "      <th>234</th>\n",
       "      <th>235</th>\n",
       "      <th>236</th>\n",
       "      <th>237</th>\n",
       "      <th>238</th>\n",
       "      <th>239</th>\n",
       "    </tr>\n",
       "  </thead>\n",
       "  <tbody>\n",
       "    <tr>\n",
       "      <th>0</th>\n",
       "      <td>5.765311e-08</td>\n",
       "      <td>2.919204e-06</td>\n",
       "      <td>8.251005e-06</td>\n",
       "      <td>1.035549e-05</td>\n",
       "      <td>6.653021e-06</td>\n",
       "      <td>8.481799e-06</td>\n",
       "      <td>7.952232e-06</td>\n",
       "      <td>9.640286e-06</td>\n",
       "      <td>1.214373e-05</td>\n",
       "      <td>9.897378e-06</td>\n",
       "      <td>...</td>\n",
       "      <td>7.852335e-10</td>\n",
       "      <td>3.199072e-07</td>\n",
       "      <td>6.039295e-08</td>\n",
       "      <td>3.135831e-08</td>\n",
       "      <td>1.358186e-08</td>\n",
       "      <td>1.725900e-08</td>\n",
       "      <td>3.700053e-08</td>\n",
       "      <td>1.146261e-07</td>\n",
       "      <td>2.304017e-07</td>\n",
       "      <td>9.123036e-07</td>\n",
       "    </tr>\n",
       "    <tr>\n",
       "      <th>1</th>\n",
       "      <td>3.735759e-07</td>\n",
       "      <td>1.406641e-06</td>\n",
       "      <td>7.913796e-07</td>\n",
       "      <td>2.423016e-06</td>\n",
       "      <td>1.591520e-06</td>\n",
       "      <td>2.156537e-06</td>\n",
       "      <td>1.152244e-05</td>\n",
       "      <td>1.835806e-06</td>\n",
       "      <td>3.409465e-06</td>\n",
       "      <td>4.588651e-06</td>\n",
       "      <td>...</td>\n",
       "      <td>1.978937e-08</td>\n",
       "      <td>2.027243e-07</td>\n",
       "      <td>3.326645e-07</td>\n",
       "      <td>2.282503e-07</td>\n",
       "      <td>2.925776e-07</td>\n",
       "      <td>2.360653e-07</td>\n",
       "      <td>1.099575e-07</td>\n",
       "      <td>6.204401e-07</td>\n",
       "      <td>2.843420e-07</td>\n",
       "      <td>1.010755e-07</td>\n",
       "    </tr>\n",
       "    <tr>\n",
       "      <th>2</th>\n",
       "      <td>1.239165e-06</td>\n",
       "      <td>1.133491e-04</td>\n",
       "      <td>3.223275e-05</td>\n",
       "      <td>1.167440e-04</td>\n",
       "      <td>8.201872e-05</td>\n",
       "      <td>7.791619e-05</td>\n",
       "      <td>9.118350e-05</td>\n",
       "      <td>7.262849e-05</td>\n",
       "      <td>5.792604e-05</td>\n",
       "      <td>2.790628e-05</td>\n",
       "      <td>...</td>\n",
       "      <td>6.212056e-09</td>\n",
       "      <td>1.671696e-06</td>\n",
       "      <td>1.924085e-06</td>\n",
       "      <td>1.980974e-06</td>\n",
       "      <td>2.213376e-06</td>\n",
       "      <td>2.161989e-06</td>\n",
       "      <td>2.609704e-06</td>\n",
       "      <td>2.376046e-06</td>\n",
       "      <td>2.287409e-06</td>\n",
       "      <td>2.595447e-06</td>\n",
       "    </tr>\n",
       "    <tr>\n",
       "      <th>3</th>\n",
       "      <td>1.380803e-04</td>\n",
       "      <td>2.822152e-04</td>\n",
       "      <td>1.035799e-05</td>\n",
       "      <td>2.572376e-05</td>\n",
       "      <td>1.131727e-04</td>\n",
       "      <td>1.640871e-04</td>\n",
       "      <td>1.489161e-05</td>\n",
       "      <td>1.205226e-04</td>\n",
       "      <td>3.414750e-04</td>\n",
       "      <td>2.695519e-04</td>\n",
       "      <td>...</td>\n",
       "      <td>4.399250e-10</td>\n",
       "      <td>3.264216e-07</td>\n",
       "      <td>1.772827e-07</td>\n",
       "      <td>1.008903e-07</td>\n",
       "      <td>5.129502e-08</td>\n",
       "      <td>2.301374e-08</td>\n",
       "      <td>3.640019e-08</td>\n",
       "      <td>6.456776e-08</td>\n",
       "      <td>4.992351e-08</td>\n",
       "      <td>7.696737e-07</td>\n",
       "    </tr>\n",
       "    <tr>\n",
       "      <th>4</th>\n",
       "      <td>1.346736e-07</td>\n",
       "      <td>2.823797e-07</td>\n",
       "      <td>3.149903e-07</td>\n",
       "      <td>2.955742e-07</td>\n",
       "      <td>2.964608e-07</td>\n",
       "      <td>3.206722e-07</td>\n",
       "      <td>5.594251e-07</td>\n",
       "      <td>4.313394e-07</td>\n",
       "      <td>2.767990e-07</td>\n",
       "      <td>3.549615e-07</td>\n",
       "      <td>...</td>\n",
       "      <td>5.665347e-10</td>\n",
       "      <td>2.357067e-06</td>\n",
       "      <td>5.131995e-07</td>\n",
       "      <td>4.345855e-07</td>\n",
       "      <td>8.604716e-07</td>\n",
       "      <td>8.832054e-07</td>\n",
       "      <td>7.759231e-07</td>\n",
       "      <td>9.775222e-07</td>\n",
       "      <td>8.494950e-07</td>\n",
       "      <td>6.105446e-07</td>\n",
       "    </tr>\n",
       "    <tr>\n",
       "      <th>...</th>\n",
       "      <td>...</td>\n",
       "      <td>...</td>\n",
       "      <td>...</td>\n",
       "      <td>...</td>\n",
       "      <td>...</td>\n",
       "      <td>...</td>\n",
       "      <td>...</td>\n",
       "      <td>...</td>\n",
       "      <td>...</td>\n",
       "      <td>...</td>\n",
       "      <td>...</td>\n",
       "      <td>...</td>\n",
       "      <td>...</td>\n",
       "      <td>...</td>\n",
       "      <td>...</td>\n",
       "      <td>...</td>\n",
       "      <td>...</td>\n",
       "      <td>...</td>\n",
       "      <td>...</td>\n",
       "      <td>...</td>\n",
       "      <td>...</td>\n",
       "    </tr>\n",
       "    <tr>\n",
       "      <th>658</th>\n",
       "      <td>5.332374e-06</td>\n",
       "      <td>9.510144e-06</td>\n",
       "      <td>4.023634e-07</td>\n",
       "      <td>2.859565e-06</td>\n",
       "      <td>3.088540e-06</td>\n",
       "      <td>1.373236e-05</td>\n",
       "      <td>5.256369e-06</td>\n",
       "      <td>2.516466e-05</td>\n",
       "      <td>2.224948e-05</td>\n",
       "      <td>1.335925e-05</td>\n",
       "      <td>...</td>\n",
       "      <td>1.077385e-09</td>\n",
       "      <td>1.412815e-06</td>\n",
       "      <td>9.521767e-07</td>\n",
       "      <td>9.388410e-07</td>\n",
       "      <td>8.757126e-07</td>\n",
       "      <td>7.502864e-07</td>\n",
       "      <td>7.470462e-07</td>\n",
       "      <td>7.868200e-07</td>\n",
       "      <td>5.182409e-07</td>\n",
       "      <td>1.559751e-06</td>\n",
       "    </tr>\n",
       "    <tr>\n",
       "      <th>659</th>\n",
       "      <td>3.871676e-07</td>\n",
       "      <td>4.091723e-04</td>\n",
       "      <td>1.035928e-05</td>\n",
       "      <td>1.967031e-04</td>\n",
       "      <td>7.082138e-05</td>\n",
       "      <td>4.370069e-05</td>\n",
       "      <td>5.788753e-05</td>\n",
       "      <td>5.304508e-06</td>\n",
       "      <td>2.606282e-05</td>\n",
       "      <td>6.006760e-06</td>\n",
       "      <td>...</td>\n",
       "      <td>3.886065e-09</td>\n",
       "      <td>5.947438e-06</td>\n",
       "      <td>3.581759e-06</td>\n",
       "      <td>3.607610e-06</td>\n",
       "      <td>3.819772e-06</td>\n",
       "      <td>4.200948e-06</td>\n",
       "      <td>5.371062e-06</td>\n",
       "      <td>6.119498e-06</td>\n",
       "      <td>7.725090e-06</td>\n",
       "      <td>9.894864e-06</td>\n",
       "    </tr>\n",
       "    <tr>\n",
       "      <th>660</th>\n",
       "      <td>1.072000e-04</td>\n",
       "      <td>1.319193e-05</td>\n",
       "      <td>7.346556e-06</td>\n",
       "      <td>1.954546e-04</td>\n",
       "      <td>1.024923e-04</td>\n",
       "      <td>1.453729e-04</td>\n",
       "      <td>3.157897e-04</td>\n",
       "      <td>1.075578e-05</td>\n",
       "      <td>2.951087e-05</td>\n",
       "      <td>1.855350e-04</td>\n",
       "      <td>...</td>\n",
       "      <td>1.523935e-07</td>\n",
       "      <td>7.754643e-07</td>\n",
       "      <td>5.562308e-07</td>\n",
       "      <td>4.909393e-07</td>\n",
       "      <td>1.005452e-06</td>\n",
       "      <td>5.145950e-07</td>\n",
       "      <td>4.781300e-07</td>\n",
       "      <td>3.790900e-07</td>\n",
       "      <td>2.132266e-07</td>\n",
       "      <td>2.360154e-07</td>\n",
       "    </tr>\n",
       "    <tr>\n",
       "      <th>661</th>\n",
       "      <td>2.304142e-09</td>\n",
       "      <td>2.951174e-05</td>\n",
       "      <td>3.082726e-05</td>\n",
       "      <td>2.745684e-05</td>\n",
       "      <td>2.886488e-05</td>\n",
       "      <td>3.076670e-05</td>\n",
       "      <td>1.592129e-05</td>\n",
       "      <td>2.386291e-05</td>\n",
       "      <td>3.062014e-05</td>\n",
       "      <td>2.776578e-05</td>\n",
       "      <td>...</td>\n",
       "      <td>5.732919e-10</td>\n",
       "      <td>8.397505e-07</td>\n",
       "      <td>5.012284e-07</td>\n",
       "      <td>5.827199e-07</td>\n",
       "      <td>4.438311e-07</td>\n",
       "      <td>7.755808e-07</td>\n",
       "      <td>5.006763e-07</td>\n",
       "      <td>6.950842e-07</td>\n",
       "      <td>4.657733e-07</td>\n",
       "      <td>8.590390e-07</td>\n",
       "    </tr>\n",
       "    <tr>\n",
       "      <th>662</th>\n",
       "      <td>2.325314e-07</td>\n",
       "      <td>1.352699e-07</td>\n",
       "      <td>6.239012e-08</td>\n",
       "      <td>1.622597e-07</td>\n",
       "      <td>1.083939e-07</td>\n",
       "      <td>1.247159e-07</td>\n",
       "      <td>7.613071e-08</td>\n",
       "      <td>7.085174e-07</td>\n",
       "      <td>5.827477e-07</td>\n",
       "      <td>8.921449e-07</td>\n",
       "      <td>...</td>\n",
       "      <td>2.027772e-11</td>\n",
       "      <td>7.854711e-07</td>\n",
       "      <td>2.122517e-08</td>\n",
       "      <td>1.936219e-07</td>\n",
       "      <td>1.889617e-07</td>\n",
       "      <td>1.935341e-08</td>\n",
       "      <td>1.720762e-08</td>\n",
       "      <td>8.930685e-08</td>\n",
       "      <td>1.449182e-07</td>\n",
       "      <td>6.831743e-07</td>\n",
       "    </tr>\n",
       "  </tbody>\n",
       "</table>\n",
       "<p>663 rows × 240 columns</p>\n",
       "</div>"
      ],
      "text/plain": [
       "              0             1             2             3             4    \\\n",
       "0    5.765311e-08  2.919204e-06  8.251005e-06  1.035549e-05  6.653021e-06   \n",
       "1    3.735759e-07  1.406641e-06  7.913796e-07  2.423016e-06  1.591520e-06   \n",
       "2    1.239165e-06  1.133491e-04  3.223275e-05  1.167440e-04  8.201872e-05   \n",
       "3    1.380803e-04  2.822152e-04  1.035799e-05  2.572376e-05  1.131727e-04   \n",
       "4    1.346736e-07  2.823797e-07  3.149903e-07  2.955742e-07  2.964608e-07   \n",
       "..            ...           ...           ...           ...           ...   \n",
       "658  5.332374e-06  9.510144e-06  4.023634e-07  2.859565e-06  3.088540e-06   \n",
       "659  3.871676e-07  4.091723e-04  1.035928e-05  1.967031e-04  7.082138e-05   \n",
       "660  1.072000e-04  1.319193e-05  7.346556e-06  1.954546e-04  1.024923e-04   \n",
       "661  2.304142e-09  2.951174e-05  3.082726e-05  2.745684e-05  2.886488e-05   \n",
       "662  2.325314e-07  1.352699e-07  6.239012e-08  1.622597e-07  1.083939e-07   \n",
       "\n",
       "              5             6             7             8             9    \\\n",
       "0    8.481799e-06  7.952232e-06  9.640286e-06  1.214373e-05  9.897378e-06   \n",
       "1    2.156537e-06  1.152244e-05  1.835806e-06  3.409465e-06  4.588651e-06   \n",
       "2    7.791619e-05  9.118350e-05  7.262849e-05  5.792604e-05  2.790628e-05   \n",
       "3    1.640871e-04  1.489161e-05  1.205226e-04  3.414750e-04  2.695519e-04   \n",
       "4    3.206722e-07  5.594251e-07  4.313394e-07  2.767990e-07  3.549615e-07   \n",
       "..            ...           ...           ...           ...           ...   \n",
       "658  1.373236e-05  5.256369e-06  2.516466e-05  2.224948e-05  1.335925e-05   \n",
       "659  4.370069e-05  5.788753e-05  5.304508e-06  2.606282e-05  6.006760e-06   \n",
       "660  1.453729e-04  3.157897e-04  1.075578e-05  2.951087e-05  1.855350e-04   \n",
       "661  3.076670e-05  1.592129e-05  2.386291e-05  3.062014e-05  2.776578e-05   \n",
       "662  1.247159e-07  7.613071e-08  7.085174e-07  5.827477e-07  8.921449e-07   \n",
       "\n",
       "     ...           230           231           232           233  \\\n",
       "0    ...  7.852335e-10  3.199072e-07  6.039295e-08  3.135831e-08   \n",
       "1    ...  1.978937e-08  2.027243e-07  3.326645e-07  2.282503e-07   \n",
       "2    ...  6.212056e-09  1.671696e-06  1.924085e-06  1.980974e-06   \n",
       "3    ...  4.399250e-10  3.264216e-07  1.772827e-07  1.008903e-07   \n",
       "4    ...  5.665347e-10  2.357067e-06  5.131995e-07  4.345855e-07   \n",
       "..   ...           ...           ...           ...           ...   \n",
       "658  ...  1.077385e-09  1.412815e-06  9.521767e-07  9.388410e-07   \n",
       "659  ...  3.886065e-09  5.947438e-06  3.581759e-06  3.607610e-06   \n",
       "660  ...  1.523935e-07  7.754643e-07  5.562308e-07  4.909393e-07   \n",
       "661  ...  5.732919e-10  8.397505e-07  5.012284e-07  5.827199e-07   \n",
       "662  ...  2.027772e-11  7.854711e-07  2.122517e-08  1.936219e-07   \n",
       "\n",
       "              234           235           236           237           238  \\\n",
       "0    1.358186e-08  1.725900e-08  3.700053e-08  1.146261e-07  2.304017e-07   \n",
       "1    2.925776e-07  2.360653e-07  1.099575e-07  6.204401e-07  2.843420e-07   \n",
       "2    2.213376e-06  2.161989e-06  2.609704e-06  2.376046e-06  2.287409e-06   \n",
       "3    5.129502e-08  2.301374e-08  3.640019e-08  6.456776e-08  4.992351e-08   \n",
       "4    8.604716e-07  8.832054e-07  7.759231e-07  9.775222e-07  8.494950e-07   \n",
       "..            ...           ...           ...           ...           ...   \n",
       "658  8.757126e-07  7.502864e-07  7.470462e-07  7.868200e-07  5.182409e-07   \n",
       "659  3.819772e-06  4.200948e-06  5.371062e-06  6.119498e-06  7.725090e-06   \n",
       "660  1.005452e-06  5.145950e-07  4.781300e-07  3.790900e-07  2.132266e-07   \n",
       "661  4.438311e-07  7.755808e-07  5.006763e-07  6.950842e-07  4.657733e-07   \n",
       "662  1.889617e-07  1.935341e-08  1.720762e-08  8.930685e-08  1.449182e-07   \n",
       "\n",
       "              239  \n",
       "0    9.123036e-07  \n",
       "1    1.010755e-07  \n",
       "2    2.595447e-06  \n",
       "3    7.696737e-07  \n",
       "4    6.105446e-07  \n",
       "..            ...  \n",
       "658  1.559751e-06  \n",
       "659  9.894864e-06  \n",
       "660  2.360154e-07  \n",
       "661  8.590390e-07  \n",
       "662  6.831743e-07  \n",
       "\n",
       "[663 rows x 240 columns]"
      ]
     },
     "execution_count": 19,
     "metadata": {},
     "output_type": "execute_result"
    }
   ],
   "source": [
    "%%time\n",
    "\n",
    "FT = FourierTransformer(k=10, aggregate='low_filter')\n",
    "df_f = pd.DataFrame(FT.fit_transform(df_ts.values,  df_train.y_s))\n",
    "\n",
    "df_f"
   ]
  },
  {
   "attachments": {},
   "cell_type": "markdown",
   "metadata": {},
   "source": [
    "# fit model"
   ]
  },
  {
   "cell_type": "code",
   "execution_count": 4,
   "metadata": {},
   "outputs": [
    {
     "name": "stdout",
     "output_type": "stream",
     "text": [
      "[(464, 35), (464, 40), (464, 37), (464, 37), (464, 32), (464, 38), (464, 38), (464, 35), (464, 36), (464, 46), (464, 35), (464, 34), (464, 33), (464, 39), (464, 40), (464, 33), (464, 35), (464, 38), (464, 34), (464, 32), (464, 35), (464, 38), (464, 38), (464, 31)]\n"
     ]
    },
    {
     "data": {
      "text/html": [
       "<style>#sk-container-id-1 {color: black;background-color: white;}#sk-container-id-1 pre{padding: 0;}#sk-container-id-1 div.sk-toggleable {background-color: white;}#sk-container-id-1 label.sk-toggleable__label {cursor: pointer;display: block;width: 100%;margin-bottom: 0;padding: 0.3em;box-sizing: border-box;text-align: center;}#sk-container-id-1 label.sk-toggleable__label-arrow:before {content: \"▸\";float: left;margin-right: 0.25em;color: #696969;}#sk-container-id-1 label.sk-toggleable__label-arrow:hover:before {color: black;}#sk-container-id-1 div.sk-estimator:hover label.sk-toggleable__label-arrow:before {color: black;}#sk-container-id-1 div.sk-toggleable__content {max-height: 0;max-width: 0;overflow: hidden;text-align: left;background-color: #f0f8ff;}#sk-container-id-1 div.sk-toggleable__content pre {margin: 0.2em;color: black;border-radius: 0.25em;background-color: #f0f8ff;}#sk-container-id-1 input.sk-toggleable__control:checked~div.sk-toggleable__content {max-height: 200px;max-width: 100%;overflow: auto;}#sk-container-id-1 input.sk-toggleable__control:checked~label.sk-toggleable__label-arrow:before {content: \"▾\";}#sk-container-id-1 div.sk-estimator input.sk-toggleable__control:checked~label.sk-toggleable__label {background-color: #d4ebff;}#sk-container-id-1 div.sk-label input.sk-toggleable__control:checked~label.sk-toggleable__label {background-color: #d4ebff;}#sk-container-id-1 input.sk-hidden--visually {border: 0;clip: rect(1px 1px 1px 1px);clip: rect(1px, 1px, 1px, 1px);height: 1px;margin: -1px;overflow: hidden;padding: 0;position: absolute;width: 1px;}#sk-container-id-1 div.sk-estimator {font-family: monospace;background-color: #f0f8ff;border: 1px dotted black;border-radius: 0.25em;box-sizing: border-box;margin-bottom: 0.5em;}#sk-container-id-1 div.sk-estimator:hover {background-color: #d4ebff;}#sk-container-id-1 div.sk-parallel-item::after {content: \"\";width: 100%;border-bottom: 1px solid gray;flex-grow: 1;}#sk-container-id-1 div.sk-label:hover label.sk-toggleable__label {background-color: #d4ebff;}#sk-container-id-1 div.sk-serial::before {content: \"\";position: absolute;border-left: 1px solid gray;box-sizing: border-box;top: 0;bottom: 0;left: 50%;z-index: 0;}#sk-container-id-1 div.sk-serial {display: flex;flex-direction: column;align-items: center;background-color: white;padding-right: 0.2em;padding-left: 0.2em;position: relative;}#sk-container-id-1 div.sk-item {position: relative;z-index: 1;}#sk-container-id-1 div.sk-parallel {display: flex;align-items: stretch;justify-content: center;background-color: white;position: relative;}#sk-container-id-1 div.sk-item::before, #sk-container-id-1 div.sk-parallel-item::before {content: \"\";position: absolute;border-left: 1px solid gray;box-sizing: border-box;top: 0;bottom: 0;left: 50%;z-index: -1;}#sk-container-id-1 div.sk-parallel-item {display: flex;flex-direction: column;z-index: 1;position: relative;background-color: white;}#sk-container-id-1 div.sk-parallel-item:first-child::after {align-self: flex-end;width: 50%;}#sk-container-id-1 div.sk-parallel-item:last-child::after {align-self: flex-start;width: 50%;}#sk-container-id-1 div.sk-parallel-item:only-child::after {width: 0;}#sk-container-id-1 div.sk-dashed-wrapped {border: 1px dashed gray;margin: 0 0.4em 0.5em 0.4em;box-sizing: border-box;padding-bottom: 0.4em;background-color: white;}#sk-container-id-1 div.sk-label label {font-family: monospace;font-weight: bold;display: inline-block;line-height: 1.2em;}#sk-container-id-1 div.sk-label-container {text-align: center;}#sk-container-id-1 div.sk-container {/* jupyter's `normalize.less` sets `[hidden] { display: none; }` but bootstrap.min.css set `[hidden] { display: none !important; }` so we also need the `!important` here to be able to override the default hidden behavior on the sphinx rendered scikit-learn.org. See: https://github.com/scikit-learn/scikit-learn/issues/21755 */display: inline-block !important;position: relative;}#sk-container-id-1 div.sk-text-repr-fallback {display: none;}</style><div id=\"sk-container-id-1\" class=\"sk-top-container\"><div class=\"sk-text-repr-fallback\"><pre>Pipeline(steps=[(&#x27;fouriertransformer&#x27;,\n",
       "                 FourierTransformer(aggregate=&#x27;median&#x27;, k=20)),\n",
       "                (&#x27;svc&#x27;, SVC(class_weight=&#x27;balanced&#x27;, random_state=1798))])</pre><b>In a Jupyter environment, please rerun this cell to show the HTML representation or trust the notebook. <br />On GitHub, the HTML representation is unable to render, please try loading this page with nbviewer.org.</b></div><div class=\"sk-container\" hidden><div class=\"sk-item sk-dashed-wrapped\"><div class=\"sk-label-container\"><div class=\"sk-label sk-toggleable\"><input class=\"sk-toggleable__control sk-hidden--visually\" id=\"sk-estimator-id-1\" type=\"checkbox\" ><label for=\"sk-estimator-id-1\" class=\"sk-toggleable__label sk-toggleable__label-arrow\">Pipeline</label><div class=\"sk-toggleable__content\"><pre>Pipeline(steps=[(&#x27;fouriertransformer&#x27;,\n",
       "                 FourierTransformer(aggregate=&#x27;median&#x27;, k=20)),\n",
       "                (&#x27;svc&#x27;, SVC(class_weight=&#x27;balanced&#x27;, random_state=1798))])</pre></div></div></div><div class=\"sk-serial\"><div class=\"sk-item\"><div class=\"sk-estimator sk-toggleable\"><input class=\"sk-toggleable__control sk-hidden--visually\" id=\"sk-estimator-id-2\" type=\"checkbox\" ><label for=\"sk-estimator-id-2\" class=\"sk-toggleable__label sk-toggleable__label-arrow\">FourierTransformer</label><div class=\"sk-toggleable__content\"><pre>FourierTransformer(aggregate=&#x27;median&#x27;, k=20)</pre></div></div></div><div class=\"sk-item\"><div class=\"sk-estimator sk-toggleable\"><input class=\"sk-toggleable__control sk-hidden--visually\" id=\"sk-estimator-id-3\" type=\"checkbox\" ><label for=\"sk-estimator-id-3\" class=\"sk-toggleable__label sk-toggleable__label-arrow\">SVC</label><div class=\"sk-toggleable__content\"><pre>SVC(class_weight=&#x27;balanced&#x27;, random_state=1798)</pre></div></div></div></div></div></div></div>"
      ],
      "text/plain": [
       "Pipeline(steps=[('fouriertransformer',\n",
       "                 FourierTransformer(aggregate='median', k=20)),\n",
       "                ('svc', SVC(class_weight='balanced', random_state=1798))])"
      ]
     },
     "execution_count": 4,
     "metadata": {},
     "output_type": "execute_result"
    }
   ],
   "source": [
    "from sklearn.model_selection import train_test_split\n",
    "from sklearn.svm import SVC\n",
    "from sklearn.model_selection import GridSearchCV, StratifiedKFold\n",
    "from sklearn.pipeline import make_pipeline\n",
    "\n",
    "\n",
    "x_train, x_test, y_train, y_test = train_test_split(df_ts.values, df_train.y, test_size=0.3, stratify=df_train.y)\n",
    "model = make_pipeline(\n",
    "    FourierTransformer(k=20, aggregate='median'),\n",
    "    SVC(class_weight='balanced', random_state=1798)\n",
    ")\n",
    "model.fit(x_train,y_train)"
   ]
  },
  {
   "cell_type": "code",
   "execution_count": 5,
   "metadata": {},
   "outputs": [
    {
     "name": "stdout",
     "output_type": "stream",
     "text": [
      "[(199, 35), (199, 40), (199, 37), (199, 37), (199, 32), (199, 38), (199, 38), (199, 35), (199, 36), (199, 46), (199, 35), (199, 34), (199, 33), (199, 39), (199, 40), (199, 33), (199, 35), (199, 38), (199, 34), (199, 32), (199, 35), (199, 38), (199, 38), (199, 31)]\n"
     ]
    },
    {
     "data": {
      "text/plain": [
       "(array([[49, 60, 77],\n",
       "        [ 1,  6,  5],\n",
       "        [ 0,  1,  0]], dtype=int64),\n",
       " 0.25448028673835127)"
      ]
     },
     "execution_count": 5,
     "metadata": {},
     "output_type": "execute_result"
    },
    {
     "data": {
      "image/png": "[encoded data removed]",
      "text/plain": [
       "<Figure size 640x480 with 2 Axes>"
      ]
     },
     "metadata": {},
     "output_type": "display_data"
    }
   ],
   "source": [
    "from sklearn.metrics import confusion_matrix, balanced_accuracy_score, ConfusionMatrixDisplay\n",
    "\n",
    "y_hat = model.predict(x_test)\n",
    "ConfusionMatrixDisplay.from_predictions(y_test, y_hat)\n",
    "\n",
    "confusion_matrix(y_test,y_hat),balanced_accuracy_score(y_test, y_hat)"
   ]
  },
  {
   "attachments": {},
   "cell_type": "markdown",
   "metadata": {},
   "source": [
    "## gridsearch"
   ]
  },
  {
   "cell_type": "code",
   "execution_count": 22,
   "metadata": {},
   "outputs": [
    {
     "data": {
      "text/plain": [
       "[('fouriertransformer', FourierTransformer()),\n",
       " ('svc', SVC(class_weight='balanced'))]"
      ]
     },
     "execution_count": 22,
     "metadata": {},
     "output_type": "execute_result"
    }
   ],
   "source": [
    "from util import OrdinalClassifier\n",
    "\n",
    "pipe = make_pipeline(\n",
    "    FourierTransformer(),\n",
    "    SVC(class_weight='balanced')\n",
    "    # OrdinalClassifier(SVC(class_weight='balanced'))\n",
    ")\n",
    "\n",
    "pipe.steps"
   ]
  },
  {
   "cell_type": "code",
   "execution_count": 25,
   "metadata": {},
   "outputs": [],
   "source": [
    "params = {\n",
    "    'svc__C' : [1.5],#np.linspace(0.5,2,10),\n",
    "    # 'ordinalclassifier__kernel':['poly','rbf','linear'],\n",
    "    'fouriertransformer__k': [100],\n",
    "    'fouriertransformer__aggregate': ['low_filter']\n",
    "    }"
   ]
  },
  {
   "cell_type": "code",
   "execution_count": 26,
   "metadata": {},
   "outputs": [
    {
     "name": "stdout",
     "output_type": "stream",
     "text": [
      "[(663, 100), (663, 100), (663, 100), (663, 100), (663, 100), (663, 100), (663, 100), (663, 100), (663, 100), (663, 100), (663, 100), (663, 100), (663, 100), (663, 100), (663, 100), (663, 100), (663, 100), (663, 100), (663, 100), (663, 100), (663, 100), (663, 100), (663, 100), (663, 100)]\n"
     ]
    },
    {
     "data": {
      "text/plain": [
       "({'fouriertransformer__aggregate': 'low_filter',\n",
       "  'fouriertransformer__k': 100,\n",
       "  'svc__C': 1.5},\n",
       " 0.2850059737156511)"
      ]
     },
     "execution_count": 26,
     "metadata": {},
     "output_type": "execute_result"
    }
   ],
   "source": [
    "skf = StratifiedKFold(n_splits=4)\n",
    "cv = GridSearchCV(\n",
    "    pipe, \n",
    "    param_grid=params, \n",
    "    scoring='balanced_accuracy', \n",
    "    n_jobs=-1, \n",
    "    cv=skf.split(df_ts, df_train.y)\n",
    ")\n",
    "cv.fit(df_ts.values,df_train.y)\n",
    "\n",
    "cv.best_params_, cv.best_score_"
   ]
  },
  {
   "cell_type": "code",
   "execution_count": null,
   "metadata": {},
   "outputs": [
    {
     "data": {
      "image/png": "[encoded data removed]",
      "text/plain": [
       "<Figure size 1000x300 with 1 Axes>"
      ]
     },
     "metadata": {},
     "output_type": "display_data"
    }
   ],
   "source": [
    "from util import plot_cv_results\n",
    "# plot_cv_results(cv, 'param_C', 'param_kernel')\n",
    "# plot_cv_results(cv, 'param_n_neighbors', 'param_weights')\n",
    "plot_cv_results(cv, 'param_svc_k', 'param_fouriertransformer__aggregate')"
   ]
  },
  {
   "cell_type": "code",
   "execution_count": 29,
   "metadata": {},
   "outputs": [
    {
     "name": "stdout",
     "output_type": "stream",
     "text": [
      "[(663, 100), (663, 100), (663, 100), (663, 100), (663, 100), (663, 100), (663, 100), (663, 100), (663, 100), (663, 100), (663, 100), (663, 100), (663, 100), (663, 100), (663, 100), (663, 100), (663, 100), (663, 100), (663, 100), (663, 100), (663, 100), (663, 100), (663, 100), (663, 100)]\n"
     ]
    },
    {
     "data": {
      "text/plain": [
       "0.5444995864350703"
      ]
     },
     "execution_count": 29,
     "metadata": {},
     "output_type": "execute_result"
    },
    {
     "data": {
      "image/png": "[encoded data removed]",
      "text/plain": [
       "<Figure size 640x480 with 2 Axes>"
      ]
     },
     "metadata": {},
     "output_type": "display_data"
    }
   ],
   "source": [
    "from sklearn.metrics import balanced_accuracy_score, ConfusionMatrixDisplay\n",
    "\n",
    "y_hat = cv.predict(df_ts.values)\n",
    "ConfusionMatrixDisplay.from_predictions(df_train.y, y_hat)\n",
    "balanced_accuracy_score(df_train.y, y_hat)"
   ]
  },
  {
   "attachments": {},
   "cell_type": "markdown",
   "metadata": {},
   "source": [
    "# Submission"
   ]
  },
  {
   "cell_type": "code",
   "execution_count": 30,
   "metadata": {},
   "outputs": [],
   "source": [
    "pipe = cv"
   ]
  },
  {
   "cell_type": "code",
   "execution_count": 31,
   "metadata": {},
   "outputs": [],
   "source": [
    "df_sub = pd.read_csv('data\\\\test.csv')\n"
   ]
  },
  {
   "cell_type": "code",
   "execution_count": 32,
   "metadata": {},
   "outputs": [
    {
     "name": "stdout",
     "output_type": "stream",
     "text": [
      "[(355, 100), (355, 100), (355, 100), (355, 100), (355, 100), (355, 100), (355, 100), (355, 100), (355, 100), (355, 100), (355, 100), (355, 100), (355, 100), (355, 100), (355, 100), (355, 100), (355, 100), (355, 100), (355, 100), (355, 100), (355, 100), (355, 100), (355, 100), (355, 100)]\n"
     ]
    },
    {
     "data": {
      "image/png": "[encoded data removed]",
      "text/plain": [
       "<Figure size 640x480 with 1 Axes>"
      ]
     },
     "metadata": {},
     "output_type": "display_data"
    }
   ],
   "source": [
    "from datetime import datetime\n",
    "import matplotlib.pyplot as plt\n",
    "y_sub = pipe.predict(df_sub.iloc[:,4:].values)\n",
    "plt.hist(y_sub)\n",
    "submission_df = pd.DataFrame(y_sub,columns=['y'])\n",
    "submission_df['id'] = df_sub.id\n",
    "submission_df.set_index('id', inplace=True)\n",
    "# submission_df.y = submission_df.y\n",
    "submission_df.to_csv(f'data\\\\submissions\\\\summary_{datetime.now().strftime(\"%H.%M_%d\")}.csv')"
   ]
  }
 ],
 "metadata": {
  "kernelspec": {
   "display_name": "Python 3",
   "language": "python",
   "name": "python3"
  },
  "language_info": {
   "codemirror_mode": {
    "name": "ipython",
    "version": 3
   },
   "file_extension": ".py",
   "mimetype": "text/x-python",
   "name": "python",
   "nbconvert_exporter": "python",
   "pygments_lexer": "ipython3",
   "version": "3.11.4"
  },
  "orig_nbformat": 4
 },
 "nbformat": 4,
 "nbformat_minor": 2
}
