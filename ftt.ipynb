{
 "cells": [
  {
   "attachments": {},
   "cell_type": "markdown",
   "metadata": {},
   "source": [
    "# Frequencies\n",
    "Understand which frequencies are most important in the time series and select them"
   ]
  },
  {
   "cell_type": "code",
   "execution_count": 1,
   "metadata": {},
   "outputs": [],
   "source": [
    "from sklearn.svm import SVC\n",
    "from util import FourierTransformer\n",
    "\n",
    "import numpy as np\n",
    "import pandas as pd\n",
    "%load_ext autoreload\n",
    "%autoreload 2"
   ]
  },
  {
   "cell_type": "code",
   "execution_count": 2,
   "metadata": {},
   "outputs": [],
   "source": [
    "df_train = pd.read_csv('data\\\\train.csv')\n",
    "# df_train.to_parquet('train.parquet')\n",
    "# df_train = pd.read_parquet('train.parquet')\n",
    "df_ts = df_train.iloc[:,5:] # timeseries features only\n",
    "df_train['y_s'] = df_train.y > 1 # simplified y: label 0 for 1 and 1 for 2,3 "
   ]
  },
  {
   "attachments": {},
   "cell_type": "markdown",
   "metadata": {},
   "source": [
    "# Explore frequencies"
   ]
  },
  {
   "cell_type": "code",
   "execution_count": 58,
   "metadata": {},
   "outputs": [
    {
     "data": {
      "text/html": [
       "<div>\n",
       "<style scoped>\n",
       "    .dataframe tbody tr th:only-of-type {\n",
       "        vertical-align: middle;\n",
       "    }\n",
       "\n",
       "    .dataframe tbody tr th {\n",
       "        vertical-align: top;\n",
       "    }\n",
       "\n",
       "    .dataframe thead th {\n",
       "        text-align: right;\n",
       "    }\n",
       "</style>\n",
       "<table border=\"1\" class=\"dataframe\">\n",
       "  <thead>\n",
       "    <tr style=\"text-align: right;\">\n",
       "      <th></th>\n",
       "      <th>0</th>\n",
       "      <th>1</th>\n",
       "      <th>2</th>\n",
       "      <th>3</th>\n",
       "      <th>4</th>\n",
       "      <th>5</th>\n",
       "      <th>6</th>\n",
       "      <th>7</th>\n",
       "      <th>8</th>\n",
       "      <th>9</th>\n",
       "      <th>...</th>\n",
       "      <th>281</th>\n",
       "      <th>282</th>\n",
       "      <th>283</th>\n",
       "      <th>284</th>\n",
       "      <th>285</th>\n",
       "      <th>286</th>\n",
       "      <th>287</th>\n",
       "      <th>288</th>\n",
       "      <th>289</th>\n",
       "      <th>290</th>\n",
       "    </tr>\n",
       "  </thead>\n",
       "  <tbody>\n",
       "    <tr>\n",
       "      <th>0</th>\n",
       "      <td>0.020248</td>\n",
       "      <td>0.032455</td>\n",
       "      <td>0.011948</td>\n",
       "      <td>0.008745</td>\n",
       "      <td>0.016895</td>\n",
       "      <td>0.000587</td>\n",
       "      <td>0.000327</td>\n",
       "      <td>0.028403</td>\n",
       "      <td>0.004560</td>\n",
       "      <td>0.000496</td>\n",
       "      <td>...</td>\n",
       "      <td>0.000499</td>\n",
       "      <td>0.000017</td>\n",
       "      <td>0.000002</td>\n",
       "      <td>0.000069</td>\n",
       "      <td>0.000050</td>\n",
       "      <td>4.988551e-06</td>\n",
       "      <td>0.000535</td>\n",
       "      <td>1.256722e-03</td>\n",
       "      <td>0.000030</td>\n",
       "      <td>0.000058</td>\n",
       "    </tr>\n",
       "    <tr>\n",
       "      <th>1</th>\n",
       "      <td>0.058051</td>\n",
       "      <td>0.088154</td>\n",
       "      <td>0.137293</td>\n",
       "      <td>0.068665</td>\n",
       "      <td>0.209080</td>\n",
       "      <td>0.138088</td>\n",
       "      <td>0.009229</td>\n",
       "      <td>0.000796</td>\n",
       "      <td>0.000236</td>\n",
       "      <td>0.035688</td>\n",
       "      <td>...</td>\n",
       "      <td>0.000525</td>\n",
       "      <td>0.002223</td>\n",
       "      <td>0.004091</td>\n",
       "      <td>0.000830</td>\n",
       "      <td>0.002625</td>\n",
       "      <td>8.085875e-05</td>\n",
       "      <td>0.000992</td>\n",
       "      <td>7.860731e-04</td>\n",
       "      <td>0.002926</td>\n",
       "      <td>0.000940</td>\n",
       "    </tr>\n",
       "    <tr>\n",
       "      <th>2</th>\n",
       "      <td>0.155817</td>\n",
       "      <td>0.965438</td>\n",
       "      <td>0.034941</td>\n",
       "      <td>0.001375</td>\n",
       "      <td>0.057289</td>\n",
       "      <td>0.001105</td>\n",
       "      <td>0.053406</td>\n",
       "      <td>0.005504</td>\n",
       "      <td>0.004214</td>\n",
       "      <td>0.000059</td>\n",
       "      <td>...</td>\n",
       "      <td>0.001641</td>\n",
       "      <td>0.007583</td>\n",
       "      <td>0.000199</td>\n",
       "      <td>0.002647</td>\n",
       "      <td>0.000064</td>\n",
       "      <td>3.405571e-04</td>\n",
       "      <td>0.000348</td>\n",
       "      <td>2.118990e-05</td>\n",
       "      <td>0.000004</td>\n",
       "      <td>0.000001</td>\n",
       "    </tr>\n",
       "    <tr>\n",
       "      <th>3</th>\n",
       "      <td>0.005145</td>\n",
       "      <td>0.005551</td>\n",
       "      <td>0.062018</td>\n",
       "      <td>0.011454</td>\n",
       "      <td>0.025805</td>\n",
       "      <td>0.013612</td>\n",
       "      <td>0.002053</td>\n",
       "      <td>0.030167</td>\n",
       "      <td>0.017068</td>\n",
       "      <td>0.227079</td>\n",
       "      <td>...</td>\n",
       "      <td>0.000302</td>\n",
       "      <td>0.000016</td>\n",
       "      <td>0.000287</td>\n",
       "      <td>0.000289</td>\n",
       "      <td>0.000416</td>\n",
       "      <td>7.701140e-05</td>\n",
       "      <td>0.000034</td>\n",
       "      <td>4.979192e-06</td>\n",
       "      <td>0.000002</td>\n",
       "      <td>0.000003</td>\n",
       "    </tr>\n",
       "    <tr>\n",
       "      <th>4</th>\n",
       "      <td>0.006329</td>\n",
       "      <td>0.008593</td>\n",
       "      <td>0.001741</td>\n",
       "      <td>0.000564</td>\n",
       "      <td>0.001172</td>\n",
       "      <td>0.003411</td>\n",
       "      <td>0.000069</td>\n",
       "      <td>0.000022</td>\n",
       "      <td>0.000007</td>\n",
       "      <td>0.000643</td>\n",
       "      <td>...</td>\n",
       "      <td>0.000363</td>\n",
       "      <td>0.000115</td>\n",
       "      <td>0.001160</td>\n",
       "      <td>0.000014</td>\n",
       "      <td>0.000004</td>\n",
       "      <td>1.882341e-07</td>\n",
       "      <td>0.000016</td>\n",
       "      <td>1.441366e-05</td>\n",
       "      <td>0.000011</td>\n",
       "      <td>0.000003</td>\n",
       "    </tr>\n",
       "    <tr>\n",
       "      <th>...</th>\n",
       "      <td>...</td>\n",
       "      <td>...</td>\n",
       "      <td>...</td>\n",
       "      <td>...</td>\n",
       "      <td>...</td>\n",
       "      <td>...</td>\n",
       "      <td>...</td>\n",
       "      <td>...</td>\n",
       "      <td>...</td>\n",
       "      <td>...</td>\n",
       "      <td>...</td>\n",
       "      <td>...</td>\n",
       "      <td>...</td>\n",
       "      <td>...</td>\n",
       "      <td>...</td>\n",
       "      <td>...</td>\n",
       "      <td>...</td>\n",
       "      <td>...</td>\n",
       "      <td>...</td>\n",
       "      <td>...</td>\n",
       "      <td>...</td>\n",
       "    </tr>\n",
       "    <tr>\n",
       "      <th>658</th>\n",
       "      <td>0.003595</td>\n",
       "      <td>0.006127</td>\n",
       "      <td>0.058525</td>\n",
       "      <td>0.000955</td>\n",
       "      <td>0.008293</td>\n",
       "      <td>0.011627</td>\n",
       "      <td>0.002389</td>\n",
       "      <td>0.011223</td>\n",
       "      <td>0.091608</td>\n",
       "      <td>0.032407</td>\n",
       "      <td>...</td>\n",
       "      <td>0.001281</td>\n",
       "      <td>0.000040</td>\n",
       "      <td>0.000869</td>\n",
       "      <td>0.000088</td>\n",
       "      <td>0.000343</td>\n",
       "      <td>4.278260e-05</td>\n",
       "      <td>0.000241</td>\n",
       "      <td>5.841756e-04</td>\n",
       "      <td>0.000546</td>\n",
       "      <td>0.000038</td>\n",
       "    </tr>\n",
       "    <tr>\n",
       "      <th>659</th>\n",
       "      <td>0.000741</td>\n",
       "      <td>0.001979</td>\n",
       "      <td>0.061039</td>\n",
       "      <td>0.000048</td>\n",
       "      <td>0.041898</td>\n",
       "      <td>0.000710</td>\n",
       "      <td>0.009713</td>\n",
       "      <td>0.000058</td>\n",
       "      <td>0.004019</td>\n",
       "      <td>0.004550</td>\n",
       "      <td>...</td>\n",
       "      <td>0.000056</td>\n",
       "      <td>0.000025</td>\n",
       "      <td>0.000170</td>\n",
       "      <td>0.000181</td>\n",
       "      <td>0.000088</td>\n",
       "      <td>4.798069e-04</td>\n",
       "      <td>0.000005</td>\n",
       "      <td>5.402152e-07</td>\n",
       "      <td>0.000001</td>\n",
       "      <td>0.000128</td>\n",
       "    </tr>\n",
       "    <tr>\n",
       "      <th>660</th>\n",
       "      <td>0.004207</td>\n",
       "      <td>0.004904</td>\n",
       "      <td>0.042740</td>\n",
       "      <td>0.019781</td>\n",
       "      <td>0.053216</td>\n",
       "      <td>0.006756</td>\n",
       "      <td>0.000141</td>\n",
       "      <td>0.094251</td>\n",
       "      <td>0.006436</td>\n",
       "      <td>0.025297</td>\n",
       "      <td>...</td>\n",
       "      <td>0.000696</td>\n",
       "      <td>0.000003</td>\n",
       "      <td>0.000003</td>\n",
       "      <td>0.000048</td>\n",
       "      <td>0.000013</td>\n",
       "      <td>1.541800e-06</td>\n",
       "      <td>0.000219</td>\n",
       "      <td>9.361586e-05</td>\n",
       "      <td>0.000172</td>\n",
       "      <td>0.002484</td>\n",
       "    </tr>\n",
       "    <tr>\n",
       "      <th>661</th>\n",
       "      <td>0.087684</td>\n",
       "      <td>0.194766</td>\n",
       "      <td>0.144451</td>\n",
       "      <td>0.000420</td>\n",
       "      <td>0.010870</td>\n",
       "      <td>0.005078</td>\n",
       "      <td>0.002553</td>\n",
       "      <td>0.001140</td>\n",
       "      <td>0.008973</td>\n",
       "      <td>0.032623</td>\n",
       "      <td>...</td>\n",
       "      <td>0.000105</td>\n",
       "      <td>0.001356</td>\n",
       "      <td>0.025133</td>\n",
       "      <td>0.002788</td>\n",
       "      <td>0.000316</td>\n",
       "      <td>7.043901e-05</td>\n",
       "      <td>0.000147</td>\n",
       "      <td>9.859322e-05</td>\n",
       "      <td>0.000019</td>\n",
       "      <td>0.000115</td>\n",
       "    </tr>\n",
       "    <tr>\n",
       "      <th>662</th>\n",
       "      <td>0.001749</td>\n",
       "      <td>0.002334</td>\n",
       "      <td>0.034010</td>\n",
       "      <td>0.028637</td>\n",
       "      <td>0.072602</td>\n",
       "      <td>0.010091</td>\n",
       "      <td>0.000536</td>\n",
       "      <td>0.057185</td>\n",
       "      <td>0.001923</td>\n",
       "      <td>0.005183</td>\n",
       "      <td>...</td>\n",
       "      <td>0.000086</td>\n",
       "      <td>0.000004</td>\n",
       "      <td>0.000062</td>\n",
       "      <td>0.001117</td>\n",
       "      <td>0.000167</td>\n",
       "      <td>6.935917e-07</td>\n",
       "      <td>0.000095</td>\n",
       "      <td>2.263124e-05</td>\n",
       "      <td>0.000003</td>\n",
       "      <td>0.000004</td>\n",
       "    </tr>\n",
       "  </tbody>\n",
       "</table>\n",
       "<p>663 rows × 291 columns</p>\n",
       "</div>"
      ],
      "text/plain": [
       "          0         1         2         3         4         5         6    \\\n",
       "0    0.020248  0.032455  0.011948  0.008745  0.016895  0.000587  0.000327   \n",
       "1    0.058051  0.088154  0.137293  0.068665  0.209080  0.138088  0.009229   \n",
       "2    0.155817  0.965438  0.034941  0.001375  0.057289  0.001105  0.053406   \n",
       "3    0.005145  0.005551  0.062018  0.011454  0.025805  0.013612  0.002053   \n",
       "4    0.006329  0.008593  0.001741  0.000564  0.001172  0.003411  0.000069   \n",
       "..        ...       ...       ...       ...       ...       ...       ...   \n",
       "658  0.003595  0.006127  0.058525  0.000955  0.008293  0.011627  0.002389   \n",
       "659  0.000741  0.001979  0.061039  0.000048  0.041898  0.000710  0.009713   \n",
       "660  0.004207  0.004904  0.042740  0.019781  0.053216  0.006756  0.000141   \n",
       "661  0.087684  0.194766  0.144451  0.000420  0.010870  0.005078  0.002553   \n",
       "662  0.001749  0.002334  0.034010  0.028637  0.072602  0.010091  0.000536   \n",
       "\n",
       "          7         8         9    ...       281       282       283  \\\n",
       "0    0.028403  0.004560  0.000496  ...  0.000499  0.000017  0.000002   \n",
       "1    0.000796  0.000236  0.035688  ...  0.000525  0.002223  0.004091   \n",
       "2    0.005504  0.004214  0.000059  ...  0.001641  0.007583  0.000199   \n",
       "3    0.030167  0.017068  0.227079  ...  0.000302  0.000016  0.000287   \n",
       "4    0.000022  0.000007  0.000643  ...  0.000363  0.000115  0.001160   \n",
       "..        ...       ...       ...  ...       ...       ...       ...   \n",
       "658  0.011223  0.091608  0.032407  ...  0.001281  0.000040  0.000869   \n",
       "659  0.000058  0.004019  0.004550  ...  0.000056  0.000025  0.000170   \n",
       "660  0.094251  0.006436  0.025297  ...  0.000696  0.000003  0.000003   \n",
       "661  0.001140  0.008973  0.032623  ...  0.000105  0.001356  0.025133   \n",
       "662  0.057185  0.001923  0.005183  ...  0.000086  0.000004  0.000062   \n",
       "\n",
       "          284       285           286       287           288       289  \\\n",
       "0    0.000069  0.000050  4.988551e-06  0.000535  1.256722e-03  0.000030   \n",
       "1    0.000830  0.002625  8.085875e-05  0.000992  7.860731e-04  0.002926   \n",
       "2    0.002647  0.000064  3.405571e-04  0.000348  2.118990e-05  0.000004   \n",
       "3    0.000289  0.000416  7.701140e-05  0.000034  4.979192e-06  0.000002   \n",
       "4    0.000014  0.000004  1.882341e-07  0.000016  1.441366e-05  0.000011   \n",
       "..        ...       ...           ...       ...           ...       ...   \n",
       "658  0.000088  0.000343  4.278260e-05  0.000241  5.841756e-04  0.000546   \n",
       "659  0.000181  0.000088  4.798069e-04  0.000005  5.402152e-07  0.000001   \n",
       "660  0.000048  0.000013  1.541800e-06  0.000219  9.361586e-05  0.000172   \n",
       "661  0.002788  0.000316  7.043901e-05  0.000147  9.859322e-05  0.000019   \n",
       "662  0.001117  0.000167  6.935917e-07  0.000095  2.263124e-05  0.000003   \n",
       "\n",
       "          290  \n",
       "0    0.000058  \n",
       "1    0.000940  \n",
       "2    0.000001  \n",
       "3    0.000003  \n",
       "4    0.000003  \n",
       "..        ...  \n",
       "658  0.000038  \n",
       "659  0.000128  \n",
       "660  0.002484  \n",
       "661  0.000115  \n",
       "662  0.000004  \n",
       "\n",
       "[663 rows x 291 columns]"
      ]
     },
     "execution_count": 58,
     "metadata": {},
     "output_type": "execute_result"
    }
   ],
   "source": [
    "FT = FourierTransformer(k=10, aggregate='median')\n",
    "df_f = pd.DataFrame(FT.fit_transform(df_ts.values,  df_train.y_s))\n",
    "\n",
    "df_f"
   ]
  },
  {
   "cell_type": "code",
   "execution_count": 57,
   "metadata": {},
   "outputs": [
    {
     "data": {
      "text/plain": [
       "[2, 3, 3, 2, 2, 3, 2, 2, 3, 3, 2, 3, 2, 3, 2, 2, 2, 4, 2, 4, 2, 3, 2, 3]"
      ]
     },
     "execution_count": 57,
     "metadata": {},
     "output_type": "execute_result"
    }
   ],
   "source": [
    "list(map(len, FT.freq_idx))"
   ]
  },
  {
   "cell_type": "code",
   "execution_count": null,
   "metadata": {},
   "outputs": [],
   "source": [
    "df_f.columns = "
   ]
  },
  {
   "attachments": {},
   "cell_type": "markdown",
   "metadata": {},
   "source": [
    "# fit model"
   ]
  },
  {
   "cell_type": "code",
   "execution_count": 4,
   "metadata": {},
   "outputs": [],
   "source": [
    "from sklearn.model_selection import GridSearchCV, StratifiedKFold\n",
    "from sklearn.pipeline import make_pipeline\n",
    "\n"
   ]
  },
  {
   "cell_type": "code",
   "execution_count": 61,
   "metadata": {},
   "outputs": [
    {
     "data": {
      "text/html": [
       "<style>#sk-container-id-14 {color: black;background-color: white;}#sk-container-id-14 pre{padding: 0;}#sk-container-id-14 div.sk-toggleable {background-color: white;}#sk-container-id-14 label.sk-toggleable__label {cursor: pointer;display: block;width: 100%;margin-bottom: 0;padding: 0.3em;box-sizing: border-box;text-align: center;}#sk-container-id-14 label.sk-toggleable__label-arrow:before {content: \"▸\";float: left;margin-right: 0.25em;color: #696969;}#sk-container-id-14 label.sk-toggleable__label-arrow:hover:before {color: black;}#sk-container-id-14 div.sk-estimator:hover label.sk-toggleable__label-arrow:before {color: black;}#sk-container-id-14 div.sk-toggleable__content {max-height: 0;max-width: 0;overflow: hidden;text-align: left;background-color: #f0f8ff;}#sk-container-id-14 div.sk-toggleable__content pre {margin: 0.2em;color: black;border-radius: 0.25em;background-color: #f0f8ff;}#sk-container-id-14 input.sk-toggleable__control:checked~div.sk-toggleable__content {max-height: 200px;max-width: 100%;overflow: auto;}#sk-container-id-14 input.sk-toggleable__control:checked~label.sk-toggleable__label-arrow:before {content: \"▾\";}#sk-container-id-14 div.sk-estimator input.sk-toggleable__control:checked~label.sk-toggleable__label {background-color: #d4ebff;}#sk-container-id-14 div.sk-label input.sk-toggleable__control:checked~label.sk-toggleable__label {background-color: #d4ebff;}#sk-container-id-14 input.sk-hidden--visually {border: 0;clip: rect(1px 1px 1px 1px);clip: rect(1px, 1px, 1px, 1px);height: 1px;margin: -1px;overflow: hidden;padding: 0;position: absolute;width: 1px;}#sk-container-id-14 div.sk-estimator {font-family: monospace;background-color: #f0f8ff;border: 1px dotted black;border-radius: 0.25em;box-sizing: border-box;margin-bottom: 0.5em;}#sk-container-id-14 div.sk-estimator:hover {background-color: #d4ebff;}#sk-container-id-14 div.sk-parallel-item::after {content: \"\";width: 100%;border-bottom: 1px solid gray;flex-grow: 1;}#sk-container-id-14 div.sk-label:hover label.sk-toggleable__label {background-color: #d4ebff;}#sk-container-id-14 div.sk-serial::before {content: \"\";position: absolute;border-left: 1px solid gray;box-sizing: border-box;top: 0;bottom: 0;left: 50%;z-index: 0;}#sk-container-id-14 div.sk-serial {display: flex;flex-direction: column;align-items: center;background-color: white;padding-right: 0.2em;padding-left: 0.2em;position: relative;}#sk-container-id-14 div.sk-item {position: relative;z-index: 1;}#sk-container-id-14 div.sk-parallel {display: flex;align-items: stretch;justify-content: center;background-color: white;position: relative;}#sk-container-id-14 div.sk-item::before, #sk-container-id-14 div.sk-parallel-item::before {content: \"\";position: absolute;border-left: 1px solid gray;box-sizing: border-box;top: 0;bottom: 0;left: 50%;z-index: -1;}#sk-container-id-14 div.sk-parallel-item {display: flex;flex-direction: column;z-index: 1;position: relative;background-color: white;}#sk-container-id-14 div.sk-parallel-item:first-child::after {align-self: flex-end;width: 50%;}#sk-container-id-14 div.sk-parallel-item:last-child::after {align-self: flex-start;width: 50%;}#sk-container-id-14 div.sk-parallel-item:only-child::after {width: 0;}#sk-container-id-14 div.sk-dashed-wrapped {border: 1px dashed gray;margin: 0 0.4em 0.5em 0.4em;box-sizing: border-box;padding-bottom: 0.4em;background-color: white;}#sk-container-id-14 div.sk-label label {font-family: monospace;font-weight: bold;display: inline-block;line-height: 1.2em;}#sk-container-id-14 div.sk-label-container {text-align: center;}#sk-container-id-14 div.sk-container {/* jupyter's `normalize.less` sets `[hidden] { display: none; }` but bootstrap.min.css set `[hidden] { display: none !important; }` so we also need the `!important` here to be able to override the default hidden behavior on the sphinx rendered scikit-learn.org. See: https://github.com/scikit-learn/scikit-learn/issues/21755 */display: inline-block !important;position: relative;}#sk-container-id-14 div.sk-text-repr-fallback {display: none;}</style><div id=\"sk-container-id-14\" class=\"sk-top-container\"><div class=\"sk-text-repr-fallback\"><pre>Pipeline(steps=[(&#x27;fouriertransformer&#x27;,\n",
       "                 FourierTransformer(aggregate=&#x27;median&#x27;, k=20)),\n",
       "                (&#x27;svc&#x27;, SVC(class_weight=&#x27;balanced&#x27;, random_state=1798))])</pre><b>In a Jupyter environment, please rerun this cell to show the HTML representation or trust the notebook. <br />On GitHub, the HTML representation is unable to render, please try loading this page with nbviewer.org.</b></div><div class=\"sk-container\" hidden><div class=\"sk-item sk-dashed-wrapped\"><div class=\"sk-label-container\"><div class=\"sk-label sk-toggleable\"><input class=\"sk-toggleable__control sk-hidden--visually\" id=\"sk-estimator-id-40\" type=\"checkbox\" ><label for=\"sk-estimator-id-40\" class=\"sk-toggleable__label sk-toggleable__label-arrow\">Pipeline</label><div class=\"sk-toggleable__content\"><pre>Pipeline(steps=[(&#x27;fouriertransformer&#x27;,\n",
       "                 FourierTransformer(aggregate=&#x27;median&#x27;, k=20)),\n",
       "                (&#x27;svc&#x27;, SVC(class_weight=&#x27;balanced&#x27;, random_state=1798))])</pre></div></div></div><div class=\"sk-serial\"><div class=\"sk-item\"><div class=\"sk-estimator sk-toggleable\"><input class=\"sk-toggleable__control sk-hidden--visually\" id=\"sk-estimator-id-41\" type=\"checkbox\" ><label for=\"sk-estimator-id-41\" class=\"sk-toggleable__label sk-toggleable__label-arrow\">FourierTransformer</label><div class=\"sk-toggleable__content\"><pre>FourierTransformer(aggregate=&#x27;median&#x27;, k=20)</pre></div></div></div><div class=\"sk-item\"><div class=\"sk-estimator sk-toggleable\"><input class=\"sk-toggleable__control sk-hidden--visually\" id=\"sk-estimator-id-42\" type=\"checkbox\" ><label for=\"sk-estimator-id-42\" class=\"sk-toggleable__label sk-toggleable__label-arrow\">SVC</label><div class=\"sk-toggleable__content\"><pre>SVC(class_weight=&#x27;balanced&#x27;, random_state=1798)</pre></div></div></div></div></div></div></div>"
      ],
      "text/plain": [
       "Pipeline(steps=[('fouriertransformer',\n",
       "                 FourierTransformer(aggregate='median', k=20)),\n",
       "                ('svc', SVC(class_weight='balanced', random_state=1798))])"
      ]
     },
     "execution_count": 61,
     "metadata": {},
     "output_type": "execute_result"
    }
   ],
   "source": [
    "from sklearn.model_selection import train_test_split\n",
    "from sklearn.svm import SVC\n",
    "x_train, x_test, y_train, y_test = train_test_split(df_ts.values, df_train.y, test_size=0.3, stratify=df_train.y)\n",
    "model = make_pipeline(\n",
    "    FourierTransformer(k=20, aggregate='median'),\n",
    "    SVC(class_weight='balanced', random_state=1798)\n",
    ")\n",
    "model.fit(x_train,y_train)"
   ]
  },
  {
   "cell_type": "code",
   "execution_count": 62,
   "metadata": {},
   "outputs": [
    {
     "data": {
      "text/plain": [
       "(array([[64, 51, 71],\n",
       "        [ 3,  4,  5],\n",
       "        [ 0,  1,  0]], dtype=int64),\n",
       " 0.22580645161290325)"
      ]
     },
     "execution_count": 62,
     "metadata": {},
     "output_type": "execute_result"
    },
    {
     "data": {
      "image/png": "[encoded data removed]",
      "text/plain": [
       "<Figure size 640x480 with 2 Axes>"
      ]
     },
     "metadata": {},
     "output_type": "display_data"
    }
   ],
   "source": [
    "from sklearn.metrics import confusion_matrix, balanced_accuracy_score, ConfusionMatrixDisplay\n",
    "\n",
    "y_hat = model.predict(x_test)\n",
    "ConfusionMatrixDisplay.from_predictions(y_test, y_hat)\n",
    "\n",
    "confusion_matrix(y_test,y_hat),balanced_accuracy_score(y_test, y_hat)"
   ]
  },
  {
   "attachments": {},
   "cell_type": "markdown",
   "metadata": {},
   "source": [
    "## gridsearch"
   ]
  },
  {
   "cell_type": "code",
   "execution_count": 79,
   "metadata": {},
   "outputs": [
    {
     "data": {
      "text/plain": [
       "[('fouriertransformer', FourierTransformer()),\n",
       " ('ordinalclassifier',\n",
       "  OrdinalClassifier(classifier=SVC(class_weight='balanced')))]"
      ]
     },
     "execution_count": 79,
     "metadata": {},
     "output_type": "execute_result"
    }
   ],
   "source": [
    "from util import OrdinalClassifier\n",
    "\n",
    "pipe = make_pipeline(\n",
    "    FourierTransformer(),\n",
    "    OrdinalClassifier(SVC(class_weight='balanced'))\n",
    ")\n",
    "\n",
    "pipe.steps"
   ]
  },
  {
   "cell_type": "code",
   "execution_count": 81,
   "metadata": {},
   "outputs": [],
   "source": [
    "params = {\n",
    "    'ordinalclassifier__C' : np.linspace(0.5,2,10),\n",
    "    # 'ordinalclassifier__kernel':['poly','rbf','linear'],\n",
    "    'fouriertransformer__k': [10,20,30,40,50,60,70],\n",
    "    'fouriertransformer__aggregate': ['low_filter']\n",
    "    }"
   ]
  },
  {
   "cell_type": "code",
   "execution_count": 82,
   "metadata": {},
   "outputs": [
    {
     "ename": "KeyboardInterrupt",
     "evalue": "",
     "output_type": "error",
     "traceback": [
      "\u001b[1;31m---------------------------------------------------------------------------\u001b[0m",
      "\u001b[1;31mKeyboardInterrupt\u001b[0m                         Traceback (most recent call last)",
      "Cell \u001b[1;32mIn[82], line 9\u001b[0m\n\u001b[0;32m      1\u001b[0m skf \u001b[39m=\u001b[39m StratifiedKFold(n_splits\u001b[39m=\u001b[39m\u001b[39m4\u001b[39m)\n\u001b[0;32m      2\u001b[0m cv \u001b[39m=\u001b[39m GridSearchCV(\n\u001b[0;32m      3\u001b[0m     pipe, \n\u001b[0;32m      4\u001b[0m     param_grid\u001b[39m=\u001b[39mparams, \n\u001b[1;32m   (...)\u001b[0m\n\u001b[0;32m      7\u001b[0m     cv\u001b[39m=\u001b[39mskf\u001b[39m.\u001b[39msplit(df_ts, df_train\u001b[39m.\u001b[39my)\n\u001b[0;32m      8\u001b[0m )\n\u001b[1;32m----> 9\u001b[0m cv\u001b[39m.\u001b[39;49mfit(df_ts\u001b[39m.\u001b[39;49mvalues,df_train\u001b[39m.\u001b[39;49my)\n\u001b[0;32m     11\u001b[0m cv\u001b[39m.\u001b[39mbest_params_, cv\u001b[39m.\u001b[39mbest_score_\n",
      "File \u001b[1;32m~\\AppData\\Local\\Packages\\PythonSoftwareFoundation.Python.3.11_qbz5n2kfra8p0\\LocalCache\\local-packages\\Python311\\site-packages\\sklearn\\model_selection\\_search.py:874\u001b[0m, in \u001b[0;36mBaseSearchCV.fit\u001b[1;34m(self, X, y, groups, **fit_params)\u001b[0m\n\u001b[0;32m    868\u001b[0m     results \u001b[39m=\u001b[39m \u001b[39mself\u001b[39m\u001b[39m.\u001b[39m_format_results(\n\u001b[0;32m    869\u001b[0m         all_candidate_params, n_splits, all_out, all_more_results\n\u001b[0;32m    870\u001b[0m     )\n\u001b[0;32m    872\u001b[0m     \u001b[39mreturn\u001b[39;00m results\n\u001b[1;32m--> 874\u001b[0m \u001b[39mself\u001b[39;49m\u001b[39m.\u001b[39;49m_run_search(evaluate_candidates)\n\u001b[0;32m    876\u001b[0m \u001b[39m# multimetric is determined here because in the case of a callable\u001b[39;00m\n\u001b[0;32m    877\u001b[0m \u001b[39m# self.scoring the return type is only known after calling\u001b[39;00m\n\u001b[0;32m    878\u001b[0m first_test_score \u001b[39m=\u001b[39m all_out[\u001b[39m0\u001b[39m][\u001b[39m\"\u001b[39m\u001b[39mtest_scores\u001b[39m\u001b[39m\"\u001b[39m]\n",
      "File \u001b[1;32m~\\AppData\\Local\\Packages\\PythonSoftwareFoundation.Python.3.11_qbz5n2kfra8p0\\LocalCache\\local-packages\\Python311\\site-packages\\sklearn\\model_selection\\_search.py:1388\u001b[0m, in \u001b[0;36mGridSearchCV._run_search\u001b[1;34m(self, evaluate_candidates)\u001b[0m\n\u001b[0;32m   1386\u001b[0m \u001b[39mdef\u001b[39;00m \u001b[39m_run_search\u001b[39m(\u001b[39mself\u001b[39m, evaluate_candidates):\n\u001b[0;32m   1387\u001b[0m \u001b[39m    \u001b[39m\u001b[39m\"\"\"Search all candidates in param_grid\"\"\"\u001b[39;00m\n\u001b[1;32m-> 1388\u001b[0m     evaluate_candidates(ParameterGrid(\u001b[39mself\u001b[39;49m\u001b[39m.\u001b[39;49mparam_grid))\n",
      "File \u001b[1;32m~\\AppData\\Local\\Packages\\PythonSoftwareFoundation.Python.3.11_qbz5n2kfra8p0\\LocalCache\\local-packages\\Python311\\site-packages\\sklearn\\model_selection\\_search.py:821\u001b[0m, in \u001b[0;36mBaseSearchCV.fit.<locals>.evaluate_candidates\u001b[1;34m(candidate_params, cv, more_results)\u001b[0m\n\u001b[0;32m    813\u001b[0m \u001b[39mif\u001b[39;00m \u001b[39mself\u001b[39m\u001b[39m.\u001b[39mverbose \u001b[39m>\u001b[39m \u001b[39m0\u001b[39m:\n\u001b[0;32m    814\u001b[0m     \u001b[39mprint\u001b[39m(\n\u001b[0;32m    815\u001b[0m         \u001b[39m\"\u001b[39m\u001b[39mFitting \u001b[39m\u001b[39m{0}\u001b[39;00m\u001b[39m folds for each of \u001b[39m\u001b[39m{1}\u001b[39;00m\u001b[39m candidates,\u001b[39m\u001b[39m\"\u001b[39m\n\u001b[0;32m    816\u001b[0m         \u001b[39m\"\u001b[39m\u001b[39m totalling \u001b[39m\u001b[39m{2}\u001b[39;00m\u001b[39m fits\u001b[39m\u001b[39m\"\u001b[39m\u001b[39m.\u001b[39mformat(\n\u001b[0;32m    817\u001b[0m             n_splits, n_candidates, n_candidates \u001b[39m*\u001b[39m n_splits\n\u001b[0;32m    818\u001b[0m         )\n\u001b[0;32m    819\u001b[0m     )\n\u001b[1;32m--> 821\u001b[0m out \u001b[39m=\u001b[39m parallel(\n\u001b[0;32m    822\u001b[0m     delayed(_fit_and_score)(\n\u001b[0;32m    823\u001b[0m         clone(base_estimator),\n\u001b[0;32m    824\u001b[0m         X,\n\u001b[0;32m    825\u001b[0m         y,\n\u001b[0;32m    826\u001b[0m         train\u001b[39m=\u001b[39;49mtrain,\n\u001b[0;32m    827\u001b[0m         test\u001b[39m=\u001b[39;49mtest,\n\u001b[0;32m    828\u001b[0m         parameters\u001b[39m=\u001b[39;49mparameters,\n\u001b[0;32m    829\u001b[0m         split_progress\u001b[39m=\u001b[39;49m(split_idx, n_splits),\n\u001b[0;32m    830\u001b[0m         candidate_progress\u001b[39m=\u001b[39;49m(cand_idx, n_candidates),\n\u001b[0;32m    831\u001b[0m         \u001b[39m*\u001b[39;49m\u001b[39m*\u001b[39;49mfit_and_score_kwargs,\n\u001b[0;32m    832\u001b[0m     )\n\u001b[0;32m    833\u001b[0m     \u001b[39mfor\u001b[39;49;00m (cand_idx, parameters), (split_idx, (train, test)) \u001b[39min\u001b[39;49;00m product(\n\u001b[0;32m    834\u001b[0m         \u001b[39menumerate\u001b[39;49m(candidate_params), \u001b[39menumerate\u001b[39;49m(cv\u001b[39m.\u001b[39;49msplit(X, y, groups))\n\u001b[0;32m    835\u001b[0m     )\n\u001b[0;32m    836\u001b[0m )\n\u001b[0;32m    838\u001b[0m \u001b[39mif\u001b[39;00m \u001b[39mlen\u001b[39m(out) \u001b[39m<\u001b[39m \u001b[39m1\u001b[39m:\n\u001b[0;32m    839\u001b[0m     \u001b[39mraise\u001b[39;00m \u001b[39mValueError\u001b[39;00m(\n\u001b[0;32m    840\u001b[0m         \u001b[39m\"\u001b[39m\u001b[39mNo fits were performed. \u001b[39m\u001b[39m\"\u001b[39m\n\u001b[0;32m    841\u001b[0m         \u001b[39m\"\u001b[39m\u001b[39mWas the CV iterator empty? \u001b[39m\u001b[39m\"\u001b[39m\n\u001b[0;32m    842\u001b[0m         \u001b[39m\"\u001b[39m\u001b[39mWere there no candidates?\u001b[39m\u001b[39m\"\u001b[39m\n\u001b[0;32m    843\u001b[0m     )\n",
      "File \u001b[1;32m~\\AppData\\Local\\Packages\\PythonSoftwareFoundation.Python.3.11_qbz5n2kfra8p0\\LocalCache\\local-packages\\Python311\\site-packages\\sklearn\\utils\\parallel.py:63\u001b[0m, in \u001b[0;36mParallel.__call__\u001b[1;34m(self, iterable)\u001b[0m\n\u001b[0;32m     58\u001b[0m config \u001b[39m=\u001b[39m get_config()\n\u001b[0;32m     59\u001b[0m iterable_with_config \u001b[39m=\u001b[39m (\n\u001b[0;32m     60\u001b[0m     (_with_config(delayed_func, config), args, kwargs)\n\u001b[0;32m     61\u001b[0m     \u001b[39mfor\u001b[39;00m delayed_func, args, kwargs \u001b[39min\u001b[39;00m iterable\n\u001b[0;32m     62\u001b[0m )\n\u001b[1;32m---> 63\u001b[0m \u001b[39mreturn\u001b[39;00m \u001b[39msuper\u001b[39;49m()\u001b[39m.\u001b[39;49m\u001b[39m__call__\u001b[39;49m(iterable_with_config)\n",
      "File \u001b[1;32m~\\AppData\\Local\\Packages\\PythonSoftwareFoundation.Python.3.11_qbz5n2kfra8p0\\LocalCache\\local-packages\\Python311\\site-packages\\joblib\\parallel.py:1944\u001b[0m, in \u001b[0;36mParallel.__call__\u001b[1;34m(self, iterable)\u001b[0m\n\u001b[0;32m   1938\u001b[0m \u001b[39m# The first item from the output is blank, but it makes the interpreter\u001b[39;00m\n\u001b[0;32m   1939\u001b[0m \u001b[39m# progress until it enters the Try/Except block of the generator and\u001b[39;00m\n\u001b[0;32m   1940\u001b[0m \u001b[39m# reach the first `yield` statement. This starts the aynchronous\u001b[39;00m\n\u001b[0;32m   1941\u001b[0m \u001b[39m# dispatch of the tasks to the workers.\u001b[39;00m\n\u001b[0;32m   1942\u001b[0m \u001b[39mnext\u001b[39m(output)\n\u001b[1;32m-> 1944\u001b[0m \u001b[39mreturn\u001b[39;00m output \u001b[39mif\u001b[39;00m \u001b[39mself\u001b[39m\u001b[39m.\u001b[39mreturn_generator \u001b[39melse\u001b[39;00m \u001b[39mlist\u001b[39;49m(output)\n",
      "File \u001b[1;32m~\\AppData\\Local\\Packages\\PythonSoftwareFoundation.Python.3.11_qbz5n2kfra8p0\\LocalCache\\local-packages\\Python311\\site-packages\\joblib\\parallel.py:1587\u001b[0m, in \u001b[0;36mParallel._get_outputs\u001b[1;34m(self, iterator, pre_dispatch)\u001b[0m\n\u001b[0;32m   1584\u001b[0m     \u001b[39myield\u001b[39;00m\n\u001b[0;32m   1586\u001b[0m     \u001b[39mwith\u001b[39;00m \u001b[39mself\u001b[39m\u001b[39m.\u001b[39m_backend\u001b[39m.\u001b[39mretrieval_context():\n\u001b[1;32m-> 1587\u001b[0m         \u001b[39myield from\u001b[39;00m \u001b[39mself\u001b[39m\u001b[39m.\u001b[39m_retrieve()\n\u001b[0;32m   1589\u001b[0m \u001b[39mexcept\u001b[39;00m \u001b[39mGeneratorExit\u001b[39;00m:\n\u001b[0;32m   1590\u001b[0m     \u001b[39m# The generator has been garbage collected before being fully\u001b[39;00m\n\u001b[0;32m   1591\u001b[0m     \u001b[39m# consumed. This aborts the remaining tasks if possible and warn\u001b[39;00m\n\u001b[0;32m   1592\u001b[0m     \u001b[39m# the user if necessary.\u001b[39;00m\n\u001b[0;32m   1593\u001b[0m     \u001b[39mself\u001b[39m\u001b[39m.\u001b[39m_exception \u001b[39m=\u001b[39m \u001b[39mTrue\u001b[39;00m\n",
      "File \u001b[1;32m~\\AppData\\Local\\Packages\\PythonSoftwareFoundation.Python.3.11_qbz5n2kfra8p0\\LocalCache\\local-packages\\Python311\\site-packages\\joblib\\parallel.py:1699\u001b[0m, in \u001b[0;36mParallel._retrieve\u001b[1;34m(self)\u001b[0m\n\u001b[0;32m   1694\u001b[0m \u001b[39m# If the next job is not ready for retrieval yet, we just wait for\u001b[39;00m\n\u001b[0;32m   1695\u001b[0m \u001b[39m# async callbacks to progress.\u001b[39;00m\n\u001b[0;32m   1696\u001b[0m \u001b[39mif\u001b[39;00m ((\u001b[39mlen\u001b[39m(\u001b[39mself\u001b[39m\u001b[39m.\u001b[39m_jobs) \u001b[39m==\u001b[39m \u001b[39m0\u001b[39m) \u001b[39mor\u001b[39;00m\n\u001b[0;32m   1697\u001b[0m     (\u001b[39mself\u001b[39m\u001b[39m.\u001b[39m_jobs[\u001b[39m0\u001b[39m]\u001b[39m.\u001b[39mget_status(\n\u001b[0;32m   1698\u001b[0m         timeout\u001b[39m=\u001b[39m\u001b[39mself\u001b[39m\u001b[39m.\u001b[39mtimeout) \u001b[39m==\u001b[39m TASK_PENDING)):\n\u001b[1;32m-> 1699\u001b[0m     time\u001b[39m.\u001b[39msleep(\u001b[39m0.01\u001b[39m)\n\u001b[0;32m   1700\u001b[0m     \u001b[39mcontinue\u001b[39;00m\n\u001b[0;32m   1702\u001b[0m \u001b[39m# We need to be careful: the job list can be filling up as\u001b[39;00m\n\u001b[0;32m   1703\u001b[0m \u001b[39m# we empty it and Python list are not thread-safe by\u001b[39;00m\n\u001b[0;32m   1704\u001b[0m \u001b[39m# default hence the use of the lock\u001b[39;00m\n",
      "\u001b[1;31mKeyboardInterrupt\u001b[0m: "
     ]
    }
   ],
   "source": [
    "skf = StratifiedKFold(n_splits=4)\n",
    "cv = GridSearchCV(\n",
    "    pipe, \n",
    "    param_grid=params, \n",
    "    scoring='balanced_accuracy', \n",
    "    n_jobs=-1, \n",
    "    cv=skf.split(df_ts, df_train.y)\n",
    ")\n",
    "cv.fit(df_ts.values,df_train.y)\n",
    "\n",
    "cv.best_params_, cv.best_score_"
   ]
  },
  {
   "cell_type": "code",
   "execution_count": 71,
   "metadata": {},
   "outputs": [
    {
     "data": {
      "image/png": "[encoded data removed]",
      "text/plain": [
       "<Figure size 1000x300 with 1 Axes>"
      ]
     },
     "metadata": {},
     "output_type": "display_data"
    }
   ],
   "source": [
    "from util import plot_cv_results\n",
    "# plot_cv_results(cv, 'param_C', 'param_kernel')\n",
    "# plot_cv_results(cv, 'param_n_neighbors', 'param_weights')\n",
    "plot_cv_results(cv, 'param_fouriertransformer__k', 'param_fouriertransformer__aggregate')"
   ]
  },
  {
   "cell_type": "code",
   "execution_count": 73,
   "metadata": {},
   "outputs": [],
   "source": [
    "from sklearn.metrics import balanced_accuracy_score, ConfusionMatrixDisplay\n",
    "\n",
    "y_hat = cv.predict(df_ts.values)"
   ]
  },
  {
   "cell_type": "code",
   "execution_count": 74,
   "metadata": {},
   "outputs": [
    {
     "data": {
      "text/plain": [
       "<sklearn.metrics._plot.confusion_matrix.ConfusionMatrixDisplay at 0x1f6b591ec50>"
      ]
     },
     "execution_count": 74,
     "metadata": {},
     "output_type": "execute_result"
    },
    {
     "data": {
      "image/png": "[encoded data removed]",
      "text/plain": [
       "<Figure size 1000x300 with 2 Axes>"
      ]
     },
     "metadata": {},
     "output_type": "display_data"
    }
   ],
   "source": [
    "balanced_accuracy_score(df_train.y, y_hat)\n",
    "ConfusionMatrixDisplay.from_predictions(df_train.y, y_hat)"
   ]
  },
  {
   "attachments": {},
   "cell_type": "markdown",
   "metadata": {},
   "source": [
    "# Submission"
   ]
  },
  {
   "cell_type": "code",
   "execution_count": 76,
   "metadata": {},
   "outputs": [],
   "source": [
    "pipe = cv"
   ]
  },
  {
   "cell_type": "code",
   "execution_count": 75,
   "metadata": {},
   "outputs": [],
   "source": [
    "df_sub = pd.read_csv('data\\\\test.csv')\n"
   ]
  },
  {
   "cell_type": "code",
   "execution_count": 78,
   "metadata": {},
   "outputs": [
    {
     "data": {
      "image/png": "[encoded data removed]",
      "text/plain": [
       "<Figure size 1000x300 with 1 Axes>"
      ]
     },
     "metadata": {},
     "output_type": "display_data"
    }
   ],
   "source": [
    "from datetime import datetime\n",
    "import matplotlib.pyplot as plt\n",
    "y_sub = pipe.predict(df_sub.iloc[:,4:].values)\n",
    "plt.hist(y_sub)\n",
    "submission_df = pd.DataFrame(y_sub,columns=['y'])\n",
    "submission_df['id'] = df_sub.id\n",
    "submission_df.set_index('id', inplace=True)\n",
    "# submission_df.y = submission_df.y\n",
    "submission_df.to_csv(f'data\\\\submissions\\\\summary_{datetime.now().strftime(\"%H.%M_%d\")}.csv')"
   ]
  }
 ],
 "metadata": {
  "kernelspec": {
   "display_name": "Python 3",
   "language": "python",
   "name": "python3"
  },
  "language_info": {
   "codemirror_mode": {
    "name": "ipython",
    "version": 3
   },
   "file_extension": ".py",
   "mimetype": "text/x-python",
   "name": "python",
   "nbconvert_exporter": "python",
   "pygments_lexer": "ipython3",
   "version": "3.11.4"
  },
  "orig_nbformat": 4
 },
 "nbformat": 4,
 "nbformat_minor": 2
}
