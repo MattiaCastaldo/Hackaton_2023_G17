{
 "cells": [
  {
   "cell_type": "code",
   "execution_count": 13,
   "metadata": {
    "collapsed": true
   },
   "outputs": [
    {
     "name": "stdout",
     "output_type": "stream",
     "text": [
      "The autoreload extension is already loaded. To reload it, use:\n",
      "  %reload_ext autoreload\n"
     ]
    }
   ],
   "source": [
    "%load_ext autoreload\n",
    "%autoreload 2\n",
    "from input_reading import to_corr_matrix,to_matrix\n",
    "\n",
    "import pandas as pd\n",
    "import numpy as np\n",
    "import seaborn as sns\n",
    "from sklearn.svm import SVC\n",
    "from sklearn.model_selection import train_test_split"
   ]
  },
  {
   "cell_type": "code",
   "execution_count": 11,
   "outputs": [],
   "source": [
    "#df_train = pd.read_csv('train.csv')\n",
    "df_train.to_parquet('train.parquet')"
   ],
   "metadata": {
    "collapsed": false
   }
  },
  {
   "cell_type": "code",
   "execution_count": 2,
   "outputs": [],
   "source": [
    "df_train = pd.read_parquet('train.parquet')\n"
   ],
   "metadata": {
    "collapsed": false
   }
  },
  {
   "cell_type": "code",
   "execution_count": 24,
   "outputs": [
    {
     "data": {
      "text/plain": "array(['id', 'main.pos', 'fun.pos', ..., 'M2V2046', 'M2V2047', 'M2V2048'],\n      dtype=object)"
     },
     "execution_count": 24,
     "metadata": {},
     "output_type": "execute_result"
    }
   ],
   "source": [
    "df_train.columns.values"
   ],
   "metadata": {
    "collapsed": false
   }
  },
  {
   "cell_type": "code",
   "execution_count": 5,
   "outputs": [
    {
     "data": {
      "text/plain": "276"
     },
     "execution_count": 5,
     "metadata": {},
     "output_type": "execute_result"
    }
   ],
   "source": [
    "\n",
    "Points = df_train.columns.str.extract(r'(\\w\\d\\w)\\d{1,4}')[0].unique()[1:]\n",
    "cross_names = [Points[i]+'x'+Points[j] for i in range(24) for j in range(i+1,24)]\n",
    "len(cross_names)"
   ],
   "metadata": {
    "collapsed": false
   }
  },
  {
   "cell_type": "code",
   "execution_count": 6,
   "outputs": [
    {
     "data": {
      "text/plain": "      E1AxE1H   E1AxE1P   E1AxE1V   E1AxE2A   E1AxE2H   E1AxE2P   E1AxE2V  \\\n0    0.192835  0.000725  0.043907 -0.137231  0.063441 -0.013192  0.198359   \n1    0.083252  0.010042  0.311112 -0.132368  0.018960 -0.049720  0.026321   \n2    0.349673  0.011953 -0.413327 -0.293103 -0.015739  0.015867 -0.086237   \n3   -0.179964  0.006704 -0.566549  0.043433  0.002825  0.023454 -0.183878   \n4    0.444582  0.001509  0.244129  0.087876  0.141928  0.004871 -0.231792   \n..        ...       ...       ...       ...       ...       ...       ...   \n658 -0.126427  0.000022  0.240387  0.221170  0.038086  0.004444  0.071129   \n659  0.138915  0.010996 -0.478739  0.221996 -0.075953  0.010246 -0.186881   \n660  0.028611 -0.014615 -0.255867  0.040209 -0.057809 -0.002629  0.114954   \n661 -0.262847  0.023493 -0.254257  0.197271 -0.032240  0.010279 -0.088650   \n662 -0.080192 -0.018959 -0.103459  0.091285 -0.066236  0.006328  0.104113   \n\n      E1AxE3A   E1AxE3H   E1AxE3P  ...   M1VxM2A   M1VxM2H   M1VxM2P  \\\n0    0.014956  0.050120  0.006809  ... -0.145882  0.020524  0.005138   \n1   -0.332948 -0.077096 -0.038908  ... -0.310129 -0.099840 -0.040385   \n2   -0.016873 -0.023048 -0.005212  ... -0.043495  0.083354 -0.006703   \n3   -0.042051  0.049118  0.008525  ...  0.033051  0.095204  0.015089   \n4   -0.036350 -0.034943 -0.000716  ...  0.131249  0.168303 -0.023282   \n..        ...       ...       ...  ...       ...       ...       ...   \n658 -0.151660  0.061491  0.009133  ...  0.220329 -0.027507  0.011410   \n659 -0.102893 -0.013455 -0.004142  ...  0.238597 -0.053095 -0.002734   \n660 -0.023344 -0.025749 -0.027485  ...  0.110337 -0.034137  0.029198   \n661  0.018426  0.029782  0.018438  ...  0.404627  0.188908 -0.019506   \n662  0.015440  0.078351  0.002227  ...  0.034750  0.009989  0.008466   \n\n      M1VxM2V   M2AxM2H   M2AxM2P   M2AxM2V   M2HxM2P   M2HxM2V   M2PxM2V  \n0    0.044293 -0.222560  0.020593 -0.030588 -0.021597  0.063249  0.009557  \n1   -0.085318  0.077788 -0.009852 -0.225882  0.001466  0.080818  0.036665  \n2    0.050723 -0.112527 -0.017907 -0.282990 -0.029487  0.088341  0.033712  \n3   -0.031048  0.432608 -0.026737 -0.078006  0.006790 -0.065090  0.011237  \n4   -0.023969  0.307061  0.008753  0.194387  0.019034 -0.031796  0.028717  \n..        ...       ...       ...       ...       ...       ...       ...  \n658 -0.415687 -0.118325  0.012536 -0.092691 -0.017104  0.274723 -0.018170  \n659  0.294956 -0.266500  0.003545  0.597507  0.002204 -0.175788 -0.028948  \n660  0.150747 -0.145211  0.005429  0.570585  0.054239 -0.124445  0.017022  \n661  0.108286 -0.220473 -0.026637 -0.104047  0.002287  0.098435  0.005906  \n662  0.200743 -0.028608 -0.031495  0.005853  0.005435  0.016676  0.015430  \n\n[663 rows x 276 columns]",
      "text/html": "<div>\n<style scoped>\n    .dataframe tbody tr th:only-of-type {\n        vertical-align: middle;\n    }\n\n    .dataframe tbody tr th {\n        vertical-align: top;\n    }\n\n    .dataframe thead th {\n        text-align: right;\n    }\n</style>\n<table border=\"1\" class=\"dataframe\">\n  <thead>\n    <tr style=\"text-align: right;\">\n      <th></th>\n      <th>E1AxE1H</th>\n      <th>E1AxE1P</th>\n      <th>E1AxE1V</th>\n      <th>E1AxE2A</th>\n      <th>E1AxE2H</th>\n      <th>E1AxE2P</th>\n      <th>E1AxE2V</th>\n      <th>E1AxE3A</th>\n      <th>E1AxE3H</th>\n      <th>E1AxE3P</th>\n      <th>...</th>\n      <th>M1VxM2A</th>\n      <th>M1VxM2H</th>\n      <th>M1VxM2P</th>\n      <th>M1VxM2V</th>\n      <th>M2AxM2H</th>\n      <th>M2AxM2P</th>\n      <th>M2AxM2V</th>\n      <th>M2HxM2P</th>\n      <th>M2HxM2V</th>\n      <th>M2PxM2V</th>\n    </tr>\n  </thead>\n  <tbody>\n    <tr>\n      <th>0</th>\n      <td>0.192835</td>\n      <td>0.000725</td>\n      <td>0.043907</td>\n      <td>-0.137231</td>\n      <td>0.063441</td>\n      <td>-0.013192</td>\n      <td>0.198359</td>\n      <td>0.014956</td>\n      <td>0.050120</td>\n      <td>0.006809</td>\n      <td>...</td>\n      <td>-0.145882</td>\n      <td>0.020524</td>\n      <td>0.005138</td>\n      <td>0.044293</td>\n      <td>-0.222560</td>\n      <td>0.020593</td>\n      <td>-0.030588</td>\n      <td>-0.021597</td>\n      <td>0.063249</td>\n      <td>0.009557</td>\n    </tr>\n    <tr>\n      <th>1</th>\n      <td>0.083252</td>\n      <td>0.010042</td>\n      <td>0.311112</td>\n      <td>-0.132368</td>\n      <td>0.018960</td>\n      <td>-0.049720</td>\n      <td>0.026321</td>\n      <td>-0.332948</td>\n      <td>-0.077096</td>\n      <td>-0.038908</td>\n      <td>...</td>\n      <td>-0.310129</td>\n      <td>-0.099840</td>\n      <td>-0.040385</td>\n      <td>-0.085318</td>\n      <td>0.077788</td>\n      <td>-0.009852</td>\n      <td>-0.225882</td>\n      <td>0.001466</td>\n      <td>0.080818</td>\n      <td>0.036665</td>\n    </tr>\n    <tr>\n      <th>2</th>\n      <td>0.349673</td>\n      <td>0.011953</td>\n      <td>-0.413327</td>\n      <td>-0.293103</td>\n      <td>-0.015739</td>\n      <td>0.015867</td>\n      <td>-0.086237</td>\n      <td>-0.016873</td>\n      <td>-0.023048</td>\n      <td>-0.005212</td>\n      <td>...</td>\n      <td>-0.043495</td>\n      <td>0.083354</td>\n      <td>-0.006703</td>\n      <td>0.050723</td>\n      <td>-0.112527</td>\n      <td>-0.017907</td>\n      <td>-0.282990</td>\n      <td>-0.029487</td>\n      <td>0.088341</td>\n      <td>0.033712</td>\n    </tr>\n    <tr>\n      <th>3</th>\n      <td>-0.179964</td>\n      <td>0.006704</td>\n      <td>-0.566549</td>\n      <td>0.043433</td>\n      <td>0.002825</td>\n      <td>0.023454</td>\n      <td>-0.183878</td>\n      <td>-0.042051</td>\n      <td>0.049118</td>\n      <td>0.008525</td>\n      <td>...</td>\n      <td>0.033051</td>\n      <td>0.095204</td>\n      <td>0.015089</td>\n      <td>-0.031048</td>\n      <td>0.432608</td>\n      <td>-0.026737</td>\n      <td>-0.078006</td>\n      <td>0.006790</td>\n      <td>-0.065090</td>\n      <td>0.011237</td>\n    </tr>\n    <tr>\n      <th>4</th>\n      <td>0.444582</td>\n      <td>0.001509</td>\n      <td>0.244129</td>\n      <td>0.087876</td>\n      <td>0.141928</td>\n      <td>0.004871</td>\n      <td>-0.231792</td>\n      <td>-0.036350</td>\n      <td>-0.034943</td>\n      <td>-0.000716</td>\n      <td>...</td>\n      <td>0.131249</td>\n      <td>0.168303</td>\n      <td>-0.023282</td>\n      <td>-0.023969</td>\n      <td>0.307061</td>\n      <td>0.008753</td>\n      <td>0.194387</td>\n      <td>0.019034</td>\n      <td>-0.031796</td>\n      <td>0.028717</td>\n    </tr>\n    <tr>\n      <th>...</th>\n      <td>...</td>\n      <td>...</td>\n      <td>...</td>\n      <td>...</td>\n      <td>...</td>\n      <td>...</td>\n      <td>...</td>\n      <td>...</td>\n      <td>...</td>\n      <td>...</td>\n      <td>...</td>\n      <td>...</td>\n      <td>...</td>\n      <td>...</td>\n      <td>...</td>\n      <td>...</td>\n      <td>...</td>\n      <td>...</td>\n      <td>...</td>\n      <td>...</td>\n      <td>...</td>\n    </tr>\n    <tr>\n      <th>658</th>\n      <td>-0.126427</td>\n      <td>0.000022</td>\n      <td>0.240387</td>\n      <td>0.221170</td>\n      <td>0.038086</td>\n      <td>0.004444</td>\n      <td>0.071129</td>\n      <td>-0.151660</td>\n      <td>0.061491</td>\n      <td>0.009133</td>\n      <td>...</td>\n      <td>0.220329</td>\n      <td>-0.027507</td>\n      <td>0.011410</td>\n      <td>-0.415687</td>\n      <td>-0.118325</td>\n      <td>0.012536</td>\n      <td>-0.092691</td>\n      <td>-0.017104</td>\n      <td>0.274723</td>\n      <td>-0.018170</td>\n    </tr>\n    <tr>\n      <th>659</th>\n      <td>0.138915</td>\n      <td>0.010996</td>\n      <td>-0.478739</td>\n      <td>0.221996</td>\n      <td>-0.075953</td>\n      <td>0.010246</td>\n      <td>-0.186881</td>\n      <td>-0.102893</td>\n      <td>-0.013455</td>\n      <td>-0.004142</td>\n      <td>...</td>\n      <td>0.238597</td>\n      <td>-0.053095</td>\n      <td>-0.002734</td>\n      <td>0.294956</td>\n      <td>-0.266500</td>\n      <td>0.003545</td>\n      <td>0.597507</td>\n      <td>0.002204</td>\n      <td>-0.175788</td>\n      <td>-0.028948</td>\n    </tr>\n    <tr>\n      <th>660</th>\n      <td>0.028611</td>\n      <td>-0.014615</td>\n      <td>-0.255867</td>\n      <td>0.040209</td>\n      <td>-0.057809</td>\n      <td>-0.002629</td>\n      <td>0.114954</td>\n      <td>-0.023344</td>\n      <td>-0.025749</td>\n      <td>-0.027485</td>\n      <td>...</td>\n      <td>0.110337</td>\n      <td>-0.034137</td>\n      <td>0.029198</td>\n      <td>0.150747</td>\n      <td>-0.145211</td>\n      <td>0.005429</td>\n      <td>0.570585</td>\n      <td>0.054239</td>\n      <td>-0.124445</td>\n      <td>0.017022</td>\n    </tr>\n    <tr>\n      <th>661</th>\n      <td>-0.262847</td>\n      <td>0.023493</td>\n      <td>-0.254257</td>\n      <td>0.197271</td>\n      <td>-0.032240</td>\n      <td>0.010279</td>\n      <td>-0.088650</td>\n      <td>0.018426</td>\n      <td>0.029782</td>\n      <td>0.018438</td>\n      <td>...</td>\n      <td>0.404627</td>\n      <td>0.188908</td>\n      <td>-0.019506</td>\n      <td>0.108286</td>\n      <td>-0.220473</td>\n      <td>-0.026637</td>\n      <td>-0.104047</td>\n      <td>0.002287</td>\n      <td>0.098435</td>\n      <td>0.005906</td>\n    </tr>\n    <tr>\n      <th>662</th>\n      <td>-0.080192</td>\n      <td>-0.018959</td>\n      <td>-0.103459</td>\n      <td>0.091285</td>\n      <td>-0.066236</td>\n      <td>0.006328</td>\n      <td>0.104113</td>\n      <td>0.015440</td>\n      <td>0.078351</td>\n      <td>0.002227</td>\n      <td>...</td>\n      <td>0.034750</td>\n      <td>0.009989</td>\n      <td>0.008466</td>\n      <td>0.200743</td>\n      <td>-0.028608</td>\n      <td>-0.031495</td>\n      <td>0.005853</td>\n      <td>0.005435</td>\n      <td>0.016676</td>\n      <td>0.015430</td>\n    </tr>\n  </tbody>\n</table>\n<p>663 rows × 276 columns</p>\n</div>"
     },
     "execution_count": 6,
     "metadata": {},
     "output_type": "execute_result"
    }
   ],
   "source": [
    "from sklearn.pipeline import make_pipeline\n",
    "from sklearn.compose import make_column_transformer as mk_transformer, make_column_selector as select\n",
    "from sklearn.preprocessing import FunctionTransformer, OneHotEncoder\n",
    "\n",
    "\n",
    "def to_corr_features(features):\n",
    "    '''transforms a df row into a df row of correlations'''\n",
    "    upper_triangular_idx = np.triu_indices(24, k=1)\n",
    "\n",
    "    cor_mat = features\\\n",
    "                .apply(to_corr_matrix, axis=1)\\\n",
    "                .apply(lambda x: x[upper_triangular_idx])\\\n",
    "                .values\n",
    "\n",
    "    return pd.DataFrame(np.vstack(cor_mat), columns = cross_names)\n",
    "\n",
    "\n",
    "X = to_corr_features(df_train.iloc[:,5:])\n",
    "X"
   ],
   "metadata": {
    "collapsed": false
   }
  },
  {
   "cell_type": "markdown",
   "source": [
    "## Baseline correlation"
   ],
   "metadata": {
    "collapsed": false
   }
  },
  {
   "cell_type": "code",
   "execution_count": 20,
   "outputs": [
    {
     "data": {
      "text/plain": "SVC(class_weight='balanced')",
      "text/html": "<style>#sk-container-id-6 {color: black;background-color: white;}#sk-container-id-6 pre{padding: 0;}#sk-container-id-6 div.sk-toggleable {background-color: white;}#sk-container-id-6 label.sk-toggleable__label {cursor: pointer;display: block;width: 100%;margin-bottom: 0;padding: 0.3em;box-sizing: border-box;text-align: center;}#sk-container-id-6 label.sk-toggleable__label-arrow:before {content: \"▸\";float: left;margin-right: 0.25em;color: #696969;}#sk-container-id-6 label.sk-toggleable__label-arrow:hover:before {color: black;}#sk-container-id-6 div.sk-estimator:hover label.sk-toggleable__label-arrow:before {color: black;}#sk-container-id-6 div.sk-toggleable__content {max-height: 0;max-width: 0;overflow: hidden;text-align: left;background-color: #f0f8ff;}#sk-container-id-6 div.sk-toggleable__content pre {margin: 0.2em;color: black;border-radius: 0.25em;background-color: #f0f8ff;}#sk-container-id-6 input.sk-toggleable__control:checked~div.sk-toggleable__content {max-height: 200px;max-width: 100%;overflow: auto;}#sk-container-id-6 input.sk-toggleable__control:checked~label.sk-toggleable__label-arrow:before {content: \"▾\";}#sk-container-id-6 div.sk-estimator input.sk-toggleable__control:checked~label.sk-toggleable__label {background-color: #d4ebff;}#sk-container-id-6 div.sk-label input.sk-toggleable__control:checked~label.sk-toggleable__label {background-color: #d4ebff;}#sk-container-id-6 input.sk-hidden--visually {border: 0;clip: rect(1px 1px 1px 1px);clip: rect(1px, 1px, 1px, 1px);height: 1px;margin: -1px;overflow: hidden;padding: 0;position: absolute;width: 1px;}#sk-container-id-6 div.sk-estimator {font-family: monospace;background-color: #f0f8ff;border: 1px dotted black;border-radius: 0.25em;box-sizing: border-box;margin-bottom: 0.5em;}#sk-container-id-6 div.sk-estimator:hover {background-color: #d4ebff;}#sk-container-id-6 div.sk-parallel-item::after {content: \"\";width: 100%;border-bottom: 1px solid gray;flex-grow: 1;}#sk-container-id-6 div.sk-label:hover label.sk-toggleable__label {background-color: #d4ebff;}#sk-container-id-6 div.sk-serial::before {content: \"\";position: absolute;border-left: 1px solid gray;box-sizing: border-box;top: 0;bottom: 0;left: 50%;z-index: 0;}#sk-container-id-6 div.sk-serial {display: flex;flex-direction: column;align-items: center;background-color: white;padding-right: 0.2em;padding-left: 0.2em;position: relative;}#sk-container-id-6 div.sk-item {position: relative;z-index: 1;}#sk-container-id-6 div.sk-parallel {display: flex;align-items: stretch;justify-content: center;background-color: white;position: relative;}#sk-container-id-6 div.sk-item::before, #sk-container-id-6 div.sk-parallel-item::before {content: \"\";position: absolute;border-left: 1px solid gray;box-sizing: border-box;top: 0;bottom: 0;left: 50%;z-index: -1;}#sk-container-id-6 div.sk-parallel-item {display: flex;flex-direction: column;z-index: 1;position: relative;background-color: white;}#sk-container-id-6 div.sk-parallel-item:first-child::after {align-self: flex-end;width: 50%;}#sk-container-id-6 div.sk-parallel-item:last-child::after {align-self: flex-start;width: 50%;}#sk-container-id-6 div.sk-parallel-item:only-child::after {width: 0;}#sk-container-id-6 div.sk-dashed-wrapped {border: 1px dashed gray;margin: 0 0.4em 0.5em 0.4em;box-sizing: border-box;padding-bottom: 0.4em;background-color: white;}#sk-container-id-6 div.sk-label label {font-family: monospace;font-weight: bold;display: inline-block;line-height: 1.2em;}#sk-container-id-6 div.sk-label-container {text-align: center;}#sk-container-id-6 div.sk-container {/* jupyter's `normalize.less` sets `[hidden] { display: none; }` but bootstrap.min.css set `[hidden] { display: none !important; }` so we also need the `!important` here to be able to override the default hidden behavior on the sphinx rendered scikit-learn.org. See: https://github.com/scikit-learn/scikit-learn/issues/21755 */display: inline-block !important;position: relative;}#sk-container-id-6 div.sk-text-repr-fallback {display: none;}</style><div id=\"sk-container-id-6\" class=\"sk-top-container\"><div class=\"sk-text-repr-fallback\"><pre>SVC(class_weight=&#x27;balanced&#x27;)</pre><b>In a Jupyter environment, please rerun this cell to show the HTML representation or trust the notebook. <br />On GitHub, the HTML representation is unable to render, please try loading this page with nbviewer.org.</b></div><div class=\"sk-container\" hidden><div class=\"sk-item\"><div class=\"sk-estimator sk-toggleable\"><input class=\"sk-toggleable__control sk-hidden--visually\" id=\"sk-estimator-id-6\" type=\"checkbox\" checked><label for=\"sk-estimator-id-6\" class=\"sk-toggleable__label sk-toggleable__label-arrow\">SVC</label><div class=\"sk-toggleable__content\"><pre>SVC(class_weight=&#x27;balanced&#x27;)</pre></div></div></div></div></div>"
     },
     "execution_count": 20,
     "metadata": {},
     "output_type": "execute_result"
    }
   ],
   "source": [
    "X_train, X_test, y_train, y_test = train_test_split(X, df_train.y, test_size=0.3)\n",
    "\n",
    "from sklearn.svm import SVC, LinearSVC\n",
    "from sklearn.impute import SimpleImputer, KNNImputer\n",
    "\n",
    "model = SVC(class_weight='balanced')\n",
    "\n",
    "model.fit(X_train, y_train)"
   ],
   "metadata": {
    "collapsed": false
   }
  },
  {
   "cell_type": "code",
   "execution_count": 23,
   "outputs": [
    {
     "data": {
      "text/plain": "0.3333333333333333"
     },
     "execution_count": 23,
     "metadata": {},
     "output_type": "execute_result"
    },
    {
     "data": {
      "text/plain": "<Figure size 640x480 with 2 Axes>",
      "image/png": "[encoded data removed]"
     },
     "metadata": {},
     "output_type": "display_data"
    }
   ],
   "source": [
    "from sklearn.metrics import ConfusionMatrixDisplay, balanced_accuracy_score\n",
    "sns.set_style('darkgrid')\n",
    "y_hat = model.predict(X_test)\n",
    "ConfusionMatrixDisplay.from_predictions(y_test, y_hat)\n",
    "balanced_accuracy_score(y_test, y_hat)"
   ],
   "metadata": {
    "collapsed": false
   }
  },
  {
   "cell_type": "markdown",
   "source": [
    "## Population summaries"
   ],
   "metadata": {
    "collapsed": false
   }
  },
  {
   "cell_type": "code",
   "execution_count": 122,
   "outputs": [],
   "source": [
    "x = df_train.iloc[1,5:]\n",
    "\n",
    "x.values.reshape(24,2048)\n",
    "\n",
    "summaries = [\n",
    "    np.max,\n",
    "    np.min,\n",
    "    np.mean,\n",
    "    lambda x: np.quantile(x, q=0.05),\n",
    "    lambda x: np.quantile(x,q=0.25),\n",
    "    lambda x: np.quantile(x,q=0.75),\n",
    "    lambda x:np.quantile(x,q=0.5),\n",
    "    lambda x: np.quantile(x,q=0.95),\n",
    "    np.std\n",
    "]\n",
    "\n",
    "X = df_train.iloc[:,5:].values.reshape(663,24,2048)\n",
    "X = [np.concatenate([np.apply_along_axis(i,1,row) for i in summaries]) for row in X]\n",
    "df_train.y = df_train.y == 1"
   ],
   "metadata": {
    "collapsed": false
   }
  },
  {
   "cell_type": "code",
   "execution_count": 143,
   "outputs": [
    {
     "data": {
      "text/plain": "SVC(C=2, class_weight='balanced')",
      "text/html": "<style>#sk-container-id-27 {color: black;background-color: white;}#sk-container-id-27 pre{padding: 0;}#sk-container-id-27 div.sk-toggleable {background-color: white;}#sk-container-id-27 label.sk-toggleable__label {cursor: pointer;display: block;width: 100%;margin-bottom: 0;padding: 0.3em;box-sizing: border-box;text-align: center;}#sk-container-id-27 label.sk-toggleable__label-arrow:before {content: \"▸\";float: left;margin-right: 0.25em;color: #696969;}#sk-container-id-27 label.sk-toggleable__label-arrow:hover:before {color: black;}#sk-container-id-27 div.sk-estimator:hover label.sk-toggleable__label-arrow:before {color: black;}#sk-container-id-27 div.sk-toggleable__content {max-height: 0;max-width: 0;overflow: hidden;text-align: left;background-color: #f0f8ff;}#sk-container-id-27 div.sk-toggleable__content pre {margin: 0.2em;color: black;border-radius: 0.25em;background-color: #f0f8ff;}#sk-container-id-27 input.sk-toggleable__control:checked~div.sk-toggleable__content {max-height: 200px;max-width: 100%;overflow: auto;}#sk-container-id-27 input.sk-toggleable__control:checked~label.sk-toggleable__label-arrow:before {content: \"▾\";}#sk-container-id-27 div.sk-estimator input.sk-toggleable__control:checked~label.sk-toggleable__label {background-color: #d4ebff;}#sk-container-id-27 div.sk-label input.sk-toggleable__control:checked~label.sk-toggleable__label {background-color: #d4ebff;}#sk-container-id-27 input.sk-hidden--visually {border: 0;clip: rect(1px 1px 1px 1px);clip: rect(1px, 1px, 1px, 1px);height: 1px;margin: -1px;overflow: hidden;padding: 0;position: absolute;width: 1px;}#sk-container-id-27 div.sk-estimator {font-family: monospace;background-color: #f0f8ff;border: 1px dotted black;border-radius: 0.25em;box-sizing: border-box;margin-bottom: 0.5em;}#sk-container-id-27 div.sk-estimator:hover {background-color: #d4ebff;}#sk-container-id-27 div.sk-parallel-item::after {content: \"\";width: 100%;border-bottom: 1px solid gray;flex-grow: 1;}#sk-container-id-27 div.sk-label:hover label.sk-toggleable__label {background-color: #d4ebff;}#sk-container-id-27 div.sk-serial::before {content: \"\";position: absolute;border-left: 1px solid gray;box-sizing: border-box;top: 0;bottom: 0;left: 50%;z-index: 0;}#sk-container-id-27 div.sk-serial {display: flex;flex-direction: column;align-items: center;background-color: white;padding-right: 0.2em;padding-left: 0.2em;position: relative;}#sk-container-id-27 div.sk-item {position: relative;z-index: 1;}#sk-container-id-27 div.sk-parallel {display: flex;align-items: stretch;justify-content: center;background-color: white;position: relative;}#sk-container-id-27 div.sk-item::before, #sk-container-id-27 div.sk-parallel-item::before {content: \"\";position: absolute;border-left: 1px solid gray;box-sizing: border-box;top: 0;bottom: 0;left: 50%;z-index: -1;}#sk-container-id-27 div.sk-parallel-item {display: flex;flex-direction: column;z-index: 1;position: relative;background-color: white;}#sk-container-id-27 div.sk-parallel-item:first-child::after {align-self: flex-end;width: 50%;}#sk-container-id-27 div.sk-parallel-item:last-child::after {align-self: flex-start;width: 50%;}#sk-container-id-27 div.sk-parallel-item:only-child::after {width: 0;}#sk-container-id-27 div.sk-dashed-wrapped {border: 1px dashed gray;margin: 0 0.4em 0.5em 0.4em;box-sizing: border-box;padding-bottom: 0.4em;background-color: white;}#sk-container-id-27 div.sk-label label {font-family: monospace;font-weight: bold;display: inline-block;line-height: 1.2em;}#sk-container-id-27 div.sk-label-container {text-align: center;}#sk-container-id-27 div.sk-container {/* jupyter's `normalize.less` sets `[hidden] { display: none; }` but bootstrap.min.css set `[hidden] { display: none !important; }` so we also need the `!important` here to be able to override the default hidden behavior on the sphinx rendered scikit-learn.org. See: https://github.com/scikit-learn/scikit-learn/issues/21755 */display: inline-block !important;position: relative;}#sk-container-id-27 div.sk-text-repr-fallback {display: none;}</style><div id=\"sk-container-id-27\" class=\"sk-top-container\"><div class=\"sk-text-repr-fallback\"><pre>SVC(C=2, class_weight=&#x27;balanced&#x27;)</pre><b>In a Jupyter environment, please rerun this cell to show the HTML representation or trust the notebook. <br />On GitHub, the HTML representation is unable to render, please try loading this page with nbviewer.org.</b></div><div class=\"sk-container\" hidden><div class=\"sk-item\"><div class=\"sk-estimator sk-toggleable\"><input class=\"sk-toggleable__control sk-hidden--visually\" id=\"sk-estimator-id-27\" type=\"checkbox\" checked><label for=\"sk-estimator-id-27\" class=\"sk-toggleable__label sk-toggleable__label-arrow\">SVC</label><div class=\"sk-toggleable__content\"><pre>SVC(C=2, class_weight=&#x27;balanced&#x27;)</pre></div></div></div></div></div>"
     },
     "execution_count": 143,
     "metadata": {},
     "output_type": "execute_result"
    }
   ],
   "source": [
    "x_train, x_test, y_train, y_test = train_test_split(X, df_train.y, test_size=0.3, stratify=df_train.y)\n",
    "model = SVC(C=2, class_weight='balanced')\n",
    "model.fit(x_train,y_train)"
   ],
   "metadata": {
    "collapsed": false
   }
  },
  {
   "cell_type": "code",
   "execution_count": 144,
   "outputs": [
    {
     "data": {
      "text/plain": "(array([[ 7,  6],\n        [98, 88]], dtype=int64),\n 0.5057899090157154,\n 0.9346733668341709)"
     },
     "execution_count": 144,
     "metadata": {},
     "output_type": "execute_result"
    }
   ],
   "source": [
    "from sklearn.metrics import confusion_matrix\n",
    "y_hat = model.predict(x_test)\n",
    "confusion_matrix(y_test,y_hat),balanced_accuracy_score(y_test, y_hat), y_test.mean()"
   ],
   "metadata": {
    "collapsed": false
   }
  },
  {
   "cell_type": "markdown",
   "source": [
    "# Submission"
   ],
   "metadata": {
    "collapsed": false
   }
  },
  {
   "cell_type": "code",
   "execution_count": 145,
   "outputs": [
    {
     "data": {
      "text/plain": "SVC(C=2, class_weight='balanced')",
      "text/html": "<style>#sk-container-id-28 {color: black;background-color: white;}#sk-container-id-28 pre{padding: 0;}#sk-container-id-28 div.sk-toggleable {background-color: white;}#sk-container-id-28 label.sk-toggleable__label {cursor: pointer;display: block;width: 100%;margin-bottom: 0;padding: 0.3em;box-sizing: border-box;text-align: center;}#sk-container-id-28 label.sk-toggleable__label-arrow:before {content: \"▸\";float: left;margin-right: 0.25em;color: #696969;}#sk-container-id-28 label.sk-toggleable__label-arrow:hover:before {color: black;}#sk-container-id-28 div.sk-estimator:hover label.sk-toggleable__label-arrow:before {color: black;}#sk-container-id-28 div.sk-toggleable__content {max-height: 0;max-width: 0;overflow: hidden;text-align: left;background-color: #f0f8ff;}#sk-container-id-28 div.sk-toggleable__content pre {margin: 0.2em;color: black;border-radius: 0.25em;background-color: #f0f8ff;}#sk-container-id-28 input.sk-toggleable__control:checked~div.sk-toggleable__content {max-height: 200px;max-width: 100%;overflow: auto;}#sk-container-id-28 input.sk-toggleable__control:checked~label.sk-toggleable__label-arrow:before {content: \"▾\";}#sk-container-id-28 div.sk-estimator input.sk-toggleable__control:checked~label.sk-toggleable__label {background-color: #d4ebff;}#sk-container-id-28 div.sk-label input.sk-toggleable__control:checked~label.sk-toggleable__label {background-color: #d4ebff;}#sk-container-id-28 input.sk-hidden--visually {border: 0;clip: rect(1px 1px 1px 1px);clip: rect(1px, 1px, 1px, 1px);height: 1px;margin: -1px;overflow: hidden;padding: 0;position: absolute;width: 1px;}#sk-container-id-28 div.sk-estimator {font-family: monospace;background-color: #f0f8ff;border: 1px dotted black;border-radius: 0.25em;box-sizing: border-box;margin-bottom: 0.5em;}#sk-container-id-28 div.sk-estimator:hover {background-color: #d4ebff;}#sk-container-id-28 div.sk-parallel-item::after {content: \"\";width: 100%;border-bottom: 1px solid gray;flex-grow: 1;}#sk-container-id-28 div.sk-label:hover label.sk-toggleable__label {background-color: #d4ebff;}#sk-container-id-28 div.sk-serial::before {content: \"\";position: absolute;border-left: 1px solid gray;box-sizing: border-box;top: 0;bottom: 0;left: 50%;z-index: 0;}#sk-container-id-28 div.sk-serial {display: flex;flex-direction: column;align-items: center;background-color: white;padding-right: 0.2em;padding-left: 0.2em;position: relative;}#sk-container-id-28 div.sk-item {position: relative;z-index: 1;}#sk-container-id-28 div.sk-parallel {display: flex;align-items: stretch;justify-content: center;background-color: white;position: relative;}#sk-container-id-28 div.sk-item::before, #sk-container-id-28 div.sk-parallel-item::before {content: \"\";position: absolute;border-left: 1px solid gray;box-sizing: border-box;top: 0;bottom: 0;left: 50%;z-index: -1;}#sk-container-id-28 div.sk-parallel-item {display: flex;flex-direction: column;z-index: 1;position: relative;background-color: white;}#sk-container-id-28 div.sk-parallel-item:first-child::after {align-self: flex-end;width: 50%;}#sk-container-id-28 div.sk-parallel-item:last-child::after {align-self: flex-start;width: 50%;}#sk-container-id-28 div.sk-parallel-item:only-child::after {width: 0;}#sk-container-id-28 div.sk-dashed-wrapped {border: 1px dashed gray;margin: 0 0.4em 0.5em 0.4em;box-sizing: border-box;padding-bottom: 0.4em;background-color: white;}#sk-container-id-28 div.sk-label label {font-family: monospace;font-weight: bold;display: inline-block;line-height: 1.2em;}#sk-container-id-28 div.sk-label-container {text-align: center;}#sk-container-id-28 div.sk-container {/* jupyter's `normalize.less` sets `[hidden] { display: none; }` but bootstrap.min.css set `[hidden] { display: none !important; }` so we also need the `!important` here to be able to override the default hidden behavior on the sphinx rendered scikit-learn.org. See: https://github.com/scikit-learn/scikit-learn/issues/21755 */display: inline-block !important;position: relative;}#sk-container-id-28 div.sk-text-repr-fallback {display: none;}</style><div id=\"sk-container-id-28\" class=\"sk-top-container\"><div class=\"sk-text-repr-fallback\"><pre>SVC(C=2, class_weight=&#x27;balanced&#x27;)</pre><b>In a Jupyter environment, please rerun this cell to show the HTML representation or trust the notebook. <br />On GitHub, the HTML representation is unable to render, please try loading this page with nbviewer.org.</b></div><div class=\"sk-container\" hidden><div class=\"sk-item\"><div class=\"sk-estimator sk-toggleable\"><input class=\"sk-toggleable__control sk-hidden--visually\" id=\"sk-estimator-id-28\" type=\"checkbox\" checked><label for=\"sk-estimator-id-28\" class=\"sk-toggleable__label sk-toggleable__label-arrow\">SVC</label><div class=\"sk-toggleable__content\"><pre>SVC(C=2, class_weight=&#x27;balanced&#x27;)</pre></div></div></div></div></div>"
     },
     "execution_count": 145,
     "metadata": {},
     "output_type": "execute_result"
    }
   ],
   "source": [
    "model_final = SVC(C=2, class_weight='balanced')\n",
    "model_final.fit(X, df_train.y)"
   ],
   "metadata": {
    "collapsed": false
   }
  },
  {
   "cell_type": "code",
   "execution_count": 147,
   "outputs": [],
   "source": [
    "df_sub = pd.read_csv('test.csv')"
   ],
   "metadata": {
    "collapsed": false
   }
  },
  {
   "cell_type": "code",
   "execution_count": 151,
   "outputs": [
    {
     "data": {
      "text/plain": "       id  main.pos     fun.pos     when      E1A1      E1A2      E1A3  \\\n0       8    LHCB-6  QSCB-6-CP2  2023-01  0.044012 -0.042142 -0.360478   \n1      11    LHCB-8  QSCB-8-CP2  2023-03  0.354656 -0.258057 -0.435417   \n2      12    LHCB-4  QSCB-4-CP2  2018-10 -0.072705  0.136741  0.098616   \n3      13    LHCB-4  QSCB-4-CP6  2018-07  0.776889  0.264793  1.252166   \n4      15  LHCB-P18  QSCB-18-C2  2017-09  0.767639  1.278452 -1.360223   \n..    ...       ...         ...      ...       ...       ...       ...   \n350   995    LHCB-8  QSCB-8-CP7  2018-06 -1.780864  1.005961  0.224570   \n351   997    LHCB-4  QSCB-4-CP6  2021-11 -0.727646 -0.121540  0.159425   \n352  1003    LHCB-8  QSCB-8-CP1  2022-05  0.101757  0.175610  0.377732   \n353  1016  LHCB-P18  QSCB-18-C6  2022-08  0.917198  1.665725  2.534468   \n354  1018    LHCB-4  QSCB-4-CP1  2022-01  4.045829  3.100244  0.226313   \n\n         E1A4      E1A5      E1A6  ...   M2V2039   M2V2040   M2V2041  \\\n0   -0.388143 -0.234347  0.008777  ...  0.145522 -0.367679  0.032325   \n1    0.105555  0.306157  0.133404  ... -0.209803 -0.317693 -0.123496   \n2    0.292389  0.169617  0.270838  ...  0.169434  0.403928  0.340472   \n3    0.038967  0.915882  0.264486  ... -0.303733 -0.003635 -0.152131   \n4    0.214819 -0.767639  0.574346  ...  0.102140 -0.055244  0.151701   \n..        ...       ...       ...  ...       ...       ...       ...   \n350  0.168402 -0.247760 -0.679507  ...  0.097810  0.109827  0.124577   \n351  0.625580 -0.352326 -0.139818  ... -0.074978 -0.307108 -0.182105   \n352  0.585461  0.144735  0.253156  ...  0.066182  0.063941  0.091446   \n353  1.889459  0.023705 -1.054286  ... -0.123601  0.429097 -0.424900   \n354 -2.540184 -3.572825 -0.347262  ...  0.396255  0.014842 -0.251491   \n\n      M2V2042   M2V2043   M2V2044   M2V2045   M2V2046   M2V2047   M2V2048  \n0    0.351489 -0.191679 -0.238662  0.362742  0.046373 -0.353114  0.144611  \n1    0.213077  0.269170  0.270980 -0.004193 -0.321301 -0.250778 -0.114053  \n2    0.022822 -0.110036  0.275612  0.503778  0.373271  0.008208 -0.096481  \n3   -0.214604  0.067547 -0.139258  0.134942  0.715979 -0.044375 -0.040361  \n4   -0.126399  0.191852 -0.127218  0.298706 -0.073931  0.208696 -0.041512  \n..        ...       ...       ...       ...       ...       ...       ...  \n350 -0.092804 -0.010326  0.332883  0.545942  0.373944  0.113656 -0.187434  \n351  0.375124  0.283892  0.454548  0.262555  0.494833  0.296610  0.043673  \n352  0.066662  0.032533  0.055569 -0.026244 -0.040686 -0.011396 -0.022452  \n353 -0.112483 -0.047660  0.056007 -0.392076  0.248702 -0.534772  0.030336  \n354  0.232468  0.133714 -0.296012  0.054474  0.203560 -0.180599 -0.035034  \n\n[355 rows x 49156 columns]",
      "text/html": "<div>\n<style scoped>\n    .dataframe tbody tr th:only-of-type {\n        vertical-align: middle;\n    }\n\n    .dataframe tbody tr th {\n        vertical-align: top;\n    }\n\n    .dataframe thead th {\n        text-align: right;\n    }\n</style>\n<table border=\"1\" class=\"dataframe\">\n  <thead>\n    <tr style=\"text-align: right;\">\n      <th></th>\n      <th>id</th>\n      <th>main.pos</th>\n      <th>fun.pos</th>\n      <th>when</th>\n      <th>E1A1</th>\n      <th>E1A2</th>\n      <th>E1A3</th>\n      <th>E1A4</th>\n      <th>E1A5</th>\n      <th>E1A6</th>\n      <th>...</th>\n      <th>M2V2039</th>\n      <th>M2V2040</th>\n      <th>M2V2041</th>\n      <th>M2V2042</th>\n      <th>M2V2043</th>\n      <th>M2V2044</th>\n      <th>M2V2045</th>\n      <th>M2V2046</th>\n      <th>M2V2047</th>\n      <th>M2V2048</th>\n    </tr>\n  </thead>\n  <tbody>\n    <tr>\n      <th>0</th>\n      <td>8</td>\n      <td>LHCB-6</td>\n      <td>QSCB-6-CP2</td>\n      <td>2023-01</td>\n      <td>0.044012</td>\n      <td>-0.042142</td>\n      <td>-0.360478</td>\n      <td>-0.388143</td>\n      <td>-0.234347</td>\n      <td>0.008777</td>\n      <td>...</td>\n      <td>0.145522</td>\n      <td>-0.367679</td>\n      <td>0.032325</td>\n      <td>0.351489</td>\n      <td>-0.191679</td>\n      <td>-0.238662</td>\n      <td>0.362742</td>\n      <td>0.046373</td>\n      <td>-0.353114</td>\n      <td>0.144611</td>\n    </tr>\n    <tr>\n      <th>1</th>\n      <td>11</td>\n      <td>LHCB-8</td>\n      <td>QSCB-8-CP2</td>\n      <td>2023-03</td>\n      <td>0.354656</td>\n      <td>-0.258057</td>\n      <td>-0.435417</td>\n      <td>0.105555</td>\n      <td>0.306157</td>\n      <td>0.133404</td>\n      <td>...</td>\n      <td>-0.209803</td>\n      <td>-0.317693</td>\n      <td>-0.123496</td>\n      <td>0.213077</td>\n      <td>0.269170</td>\n      <td>0.270980</td>\n      <td>-0.004193</td>\n      <td>-0.321301</td>\n      <td>-0.250778</td>\n      <td>-0.114053</td>\n    </tr>\n    <tr>\n      <th>2</th>\n      <td>12</td>\n      <td>LHCB-4</td>\n      <td>QSCB-4-CP2</td>\n      <td>2018-10</td>\n      <td>-0.072705</td>\n      <td>0.136741</td>\n      <td>0.098616</td>\n      <td>0.292389</td>\n      <td>0.169617</td>\n      <td>0.270838</td>\n      <td>...</td>\n      <td>0.169434</td>\n      <td>0.403928</td>\n      <td>0.340472</td>\n      <td>0.022822</td>\n      <td>-0.110036</td>\n      <td>0.275612</td>\n      <td>0.503778</td>\n      <td>0.373271</td>\n      <td>0.008208</td>\n      <td>-0.096481</td>\n    </tr>\n    <tr>\n      <th>3</th>\n      <td>13</td>\n      <td>LHCB-4</td>\n      <td>QSCB-4-CP6</td>\n      <td>2018-07</td>\n      <td>0.776889</td>\n      <td>0.264793</td>\n      <td>1.252166</td>\n      <td>0.038967</td>\n      <td>0.915882</td>\n      <td>0.264486</td>\n      <td>...</td>\n      <td>-0.303733</td>\n      <td>-0.003635</td>\n      <td>-0.152131</td>\n      <td>-0.214604</td>\n      <td>0.067547</td>\n      <td>-0.139258</td>\n      <td>0.134942</td>\n      <td>0.715979</td>\n      <td>-0.044375</td>\n      <td>-0.040361</td>\n    </tr>\n    <tr>\n      <th>4</th>\n      <td>15</td>\n      <td>LHCB-P18</td>\n      <td>QSCB-18-C2</td>\n      <td>2017-09</td>\n      <td>0.767639</td>\n      <td>1.278452</td>\n      <td>-1.360223</td>\n      <td>0.214819</td>\n      <td>-0.767639</td>\n      <td>0.574346</td>\n      <td>...</td>\n      <td>0.102140</td>\n      <td>-0.055244</td>\n      <td>0.151701</td>\n      <td>-0.126399</td>\n      <td>0.191852</td>\n      <td>-0.127218</td>\n      <td>0.298706</td>\n      <td>-0.073931</td>\n      <td>0.208696</td>\n      <td>-0.041512</td>\n    </tr>\n    <tr>\n      <th>...</th>\n      <td>...</td>\n      <td>...</td>\n      <td>...</td>\n      <td>...</td>\n      <td>...</td>\n      <td>...</td>\n      <td>...</td>\n      <td>...</td>\n      <td>...</td>\n      <td>...</td>\n      <td>...</td>\n      <td>...</td>\n      <td>...</td>\n      <td>...</td>\n      <td>...</td>\n      <td>...</td>\n      <td>...</td>\n      <td>...</td>\n      <td>...</td>\n      <td>...</td>\n      <td>...</td>\n    </tr>\n    <tr>\n      <th>350</th>\n      <td>995</td>\n      <td>LHCB-8</td>\n      <td>QSCB-8-CP7</td>\n      <td>2018-06</td>\n      <td>-1.780864</td>\n      <td>1.005961</td>\n      <td>0.224570</td>\n      <td>0.168402</td>\n      <td>-0.247760</td>\n      <td>-0.679507</td>\n      <td>...</td>\n      <td>0.097810</td>\n      <td>0.109827</td>\n      <td>0.124577</td>\n      <td>-0.092804</td>\n      <td>-0.010326</td>\n      <td>0.332883</td>\n      <td>0.545942</td>\n      <td>0.373944</td>\n      <td>0.113656</td>\n      <td>-0.187434</td>\n    </tr>\n    <tr>\n      <th>351</th>\n      <td>997</td>\n      <td>LHCB-4</td>\n      <td>QSCB-4-CP6</td>\n      <td>2021-11</td>\n      <td>-0.727646</td>\n      <td>-0.121540</td>\n      <td>0.159425</td>\n      <td>0.625580</td>\n      <td>-0.352326</td>\n      <td>-0.139818</td>\n      <td>...</td>\n      <td>-0.074978</td>\n      <td>-0.307108</td>\n      <td>-0.182105</td>\n      <td>0.375124</td>\n      <td>0.283892</td>\n      <td>0.454548</td>\n      <td>0.262555</td>\n      <td>0.494833</td>\n      <td>0.296610</td>\n      <td>0.043673</td>\n    </tr>\n    <tr>\n      <th>352</th>\n      <td>1003</td>\n      <td>LHCB-8</td>\n      <td>QSCB-8-CP1</td>\n      <td>2022-05</td>\n      <td>0.101757</td>\n      <td>0.175610</td>\n      <td>0.377732</td>\n      <td>0.585461</td>\n      <td>0.144735</td>\n      <td>0.253156</td>\n      <td>...</td>\n      <td>0.066182</td>\n      <td>0.063941</td>\n      <td>0.091446</td>\n      <td>0.066662</td>\n      <td>0.032533</td>\n      <td>0.055569</td>\n      <td>-0.026244</td>\n      <td>-0.040686</td>\n      <td>-0.011396</td>\n      <td>-0.022452</td>\n    </tr>\n    <tr>\n      <th>353</th>\n      <td>1016</td>\n      <td>LHCB-P18</td>\n      <td>QSCB-18-C6</td>\n      <td>2022-08</td>\n      <td>0.917198</td>\n      <td>1.665725</td>\n      <td>2.534468</td>\n      <td>1.889459</td>\n      <td>0.023705</td>\n      <td>-1.054286</td>\n      <td>...</td>\n      <td>-0.123601</td>\n      <td>0.429097</td>\n      <td>-0.424900</td>\n      <td>-0.112483</td>\n      <td>-0.047660</td>\n      <td>0.056007</td>\n      <td>-0.392076</td>\n      <td>0.248702</td>\n      <td>-0.534772</td>\n      <td>0.030336</td>\n    </tr>\n    <tr>\n      <th>354</th>\n      <td>1018</td>\n      <td>LHCB-4</td>\n      <td>QSCB-4-CP1</td>\n      <td>2022-01</td>\n      <td>4.045829</td>\n      <td>3.100244</td>\n      <td>0.226313</td>\n      <td>-2.540184</td>\n      <td>-3.572825</td>\n      <td>-0.347262</td>\n      <td>...</td>\n      <td>0.396255</td>\n      <td>0.014842</td>\n      <td>-0.251491</td>\n      <td>0.232468</td>\n      <td>0.133714</td>\n      <td>-0.296012</td>\n      <td>0.054474</td>\n      <td>0.203560</td>\n      <td>-0.180599</td>\n      <td>-0.035034</td>\n    </tr>\n  </tbody>\n</table>\n<p>355 rows × 49156 columns</p>\n</div>"
     },
     "execution_count": 151,
     "metadata": {},
     "output_type": "execute_result"
    }
   ],
   "source": [
    "df_sub\n"
   ],
   "metadata": {
    "collapsed": false
   }
  },
  {
   "cell_type": "code",
   "execution_count": 153,
   "outputs": [],
   "source": [
    "X_sub = df_sub.iloc[:,4:].values.reshape(355,24,2048)\n",
    "X_sub = [np.concatenate([np.apply_along_axis(i,1,row) for i in summaries]) for row in X_sub]"
   ],
   "metadata": {
    "collapsed": false
   }
  },
  {
   "cell_type": "code",
   "execution_count": 165,
   "outputs": [],
   "source": [
    "y_sub = model_final.predict(X_sub)\n",
    "submission_df = pd.DataFrame(y_sub,columns=['y'])\n",
    "submission_df['id'] = df_sub.id\n",
    "submission_df.set_index('id', inplace=True)\n",
    "submission_df.y = 2-submission_df.y\n",
    "submission_df.to_csv('submission.csv')"
   ],
   "metadata": {
    "collapsed": false
   }
  }
 ],
 "metadata": {
  "kernelspec": {
   "display_name": "Python 3",
   "language": "python",
   "name": "python3"
  },
  "language_info": {
   "codemirror_mode": {
    "name": "ipython",
    "version": 2
   },
   "file_extension": ".py",
   "mimetype": "text/x-python",
   "name": "python",
   "nbconvert_exporter": "python",
   "pygments_lexer": "ipython2",
   "version": "2.7.6"
  }
 },
 "nbformat": 4,
 "nbformat_minor": 0
}
